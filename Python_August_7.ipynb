{
 "cells": [
  {
   "cell_type": "code",
   "execution_count": 1,
   "id": "686ccf6c-3211-4e86-90c2-bb51cbee76fe",
   "metadata": {
    "tags": []
   },
   "outputs": [],
   "source": [
    "import random\n",
    "import itertools\n",
    "import numpy as np\n",
    "import networkx as nx\n",
    "import matplotlib.pyplot as plt"
   ]
  },
  {
   "cell_type": "code",
   "execution_count": 2,
   "id": "ed6c0e97-7097-495d-834a-710363d40627",
   "metadata": {
    "tags": []
   },
   "outputs": [],
   "source": [
    "from math import floor\n",
    "from itertools import combinations\n",
    "from collections import defaultdict\n",
    "from networkx import NetworkXException\n",
    "from networkx.algorithms.approximation import steiner_tree"
   ]
  },
  {
   "cell_type": "markdown",
   "id": "a1080465-e4c4-4a02-a3e2-c6638128ca75",
   "metadata": {},
   "source": [
    "<div class=\"alert alert-block alert-info\">\n",
    "<b>🌌Graph:</b> fidelity-aware distribution of a 3-qubit GHZ state\n",
    "using site-bond percolation to model the underlying quantum network.\n",
    "</div>"
   ]
  },
  {
   "cell_type": "markdown",
   "id": "184ddb2c-25b1-4592-abf8-42292554aa45",
   "metadata": {},
   "source": [
    "_Initialize the Graph_"
   ]
  },
  {
   "cell_type": "code",
   "execution_count": 3,
   "id": "aa72a9af-3b13-48b5-93f7-367315bab7c0",
   "metadata": {
    "tags": []
   },
   "outputs": [],
   "source": [
    "def build_initial_grid(w, h):\n",
    "    G = nx.Graph()\n",
    "    for i in range(w):\n",
    "        for j in range(h):\n",
    "            G.add_node((i, j))\n",
    "            parity = (i + j) % 2\n",
    "            for dx in [-1, 1]:\n",
    "                ni = i + dx\n",
    "                if 0 <= ni < w:\n",
    "                    G.add_edge((i, j), (ni, j))\n",
    "            if parity == 0 and j + 1 < h:\n",
    "                G.add_edge((i, j), (i, j + 1))\n",
    "            elif parity == 1 and j - 1 >= 0:\n",
    "                G.add_edge((i, j), (i, j - 1))\n",
    "    return G"
   ]
  },
  {
   "cell_type": "markdown",
   "id": "4a834c92-5239-4beb-a32f-557b49b2e6d9",
   "metadata": {},
   "source": [
    "_site-bond percolation_"
   ]
  },
  {
   "cell_type": "code",
   "execution_count": 4,
   "id": "fe3d06eb-88b0-4355-91b5-dd3abd61220c",
   "metadata": {},
   "outputs": [],
   "source": [
    "def percolate_graph(G, w, h, p, q, p_f, terminals):\n",
    "    Gp = G.copy()\n",
    "    # Bond \n",
    "    for edge in list(Gp.edges):\n",
    "        if random.random() > p:\n",
    "            Gp.remove_edge(*edge)\n",
    "        else:\n",
    "            if random.random() < p_f:\n",
    "                Gp.edges[edge]['fidelity'] = 1.0\n",
    "            else:\n",
    "                Gp.edges[edge]['fidelity'] = random.uniform(0.9, 1.0)\n",
    "    # Site \n",
    "    for component in nx.connected_components(Gp):\n",
    "        if terminals <= component:\n",
    "            surviving_nodes = set()\n",
    "            for node in component:\n",
    "                if node in terminals or random.random() <= q:\n",
    "                    surviving_nodes.add(node)\n",
    "            return Gp.subgraph(surviving_nodes).copy()\n",
    "    return None\n",
    "# ---------------------------------------------------------------------------------------------------------\n",
    "# calculate the tree\n",
    "def compute_steiner_tree(G, terminals, weight='fidelity'):\n",
    "    comp = nx.node_connected_component(G, next(iter(terminals)))\n",
    "    if terminals <= comp:\n",
    "        return steiner_tree(G.subgraph(comp).copy(), terminals, weight=weight, method=\"kou\")\n",
    "    return None"
   ]
  },
  {
   "cell_type": "markdown",
   "id": "1829fc11-7bd0-4e5b-bcbf-08ee5f1f1a32",
   "metadata": {},
   "source": [
    "_fidelity of the chain_"
   ]
  },
  {
   "cell_type": "code",
   "execution_count": 5,
   "id": "51e1775c-b048-46ce-a2f7-a6b603abdefb",
   "metadata": {
    "tags": []
   },
   "outputs": [],
   "source": [
    "def compute_fidelity_along_path(G, path):\n",
    "    fidelity = G[path[0]][path[1]].get(\"fidelity\", 1.0)\n",
    "    for i in range(1, len(path) - 1):\n",
    "        f_next = G[path[i]][path[i + 1]].get(\"fidelity\", 1.0)\n",
    "        fidelity = fidelity * f_next + ((1 - fidelity) * (1 - f_next)) / 3\n",
    "    return fidelity\n",
    "def analyze_steiner_tree_fidelity(Gp, T, terminals):\n",
    "    candidates = [n for n in T if T.degree[n] == max(dict(T.degree()).values())]\n",
    "    center = next((n for n in candidates if n in terminals), candidates[0])\n",
    "    #print(f\"Center node: {center}\")\n",
    "    fidelity_dict = {}\n",
    "    for terminal in terminals:\n",
    "        if terminal != center:\n",
    "            path = nx.shortest_path(T, center, terminal)\n",
    "            fidelity = compute_fidelity_along_path(Gp, path)\n",
    "            fidelity_dict[terminal] = fidelity\n",
    "        else:\n",
    "            fidelity_dict[center] = 1.0\n",
    "    return fidelity_dict\n",
    "# ---------------------------------------------------------------------------------------------------------\n",
    "# final fidelity\n",
    "def compute_final_fidelity(F1, F2, F3):\n",
    "    eps1 = (1 - F1) / 3\n",
    "    eps2 = (1 - F2) / 3\n",
    "    eps3 = (1 - F3) / 3\n",
    "    e1 = eps1 + eps2 + eps3\n",
    "    e2 = eps1 * eps2 + eps1 * eps3 + eps2 * eps3\n",
    "    e3 = eps1 * eps2 * eps3\n",
    "    F4 = 1 - 3 * e1 + 10 * e2 - 32 * e3\n",
    "    return F4"
   ]
  },
  {
   "cell_type": "markdown",
   "id": "0cdebf4f-283d-4056-bca6-36d567dd3fe0",
   "metadata": {},
   "source": [
    "📉_Visualize_"
   ]
  },
  {
   "cell_type": "code",
   "execution_count": 6,
   "id": "c75f1802-aaaf-4d98-919e-06410b05501a",
   "metadata": {
    "tags": []
   },
   "outputs": [],
   "source": [
    "def visualize_parity_grid_with_abc(G, w, h, T=None, scale=0.8):\n",
    "    pos = { (i, j): (scale * i, -scale * j) for (i, j) in G.nodes }\n",
    "\n",
    "    A = (1, 1)\n",
    "    B = (w - 2, h - 2)\n",
    "    C = (w - 2, 1)\n",
    "\n",
    "    terminals = {A, B, C}\n",
    "    special_nodes = [n for n in terminals if n in G]\n",
    "    regular_nodes = [n for n in G.nodes if n not in special_nodes]\n",
    "\n",
    "    fig, ax = plt.subplots(figsize=(5, 5), constrained_layout=True)\n",
    "\n",
    "    # Draw regular nodes\n",
    "    nx.draw_networkx_nodes(G, pos, nodelist=regular_nodes, node_color='#4F8FC0', node_size=100, ax=ax)\n",
    "\n",
    "    # Draw special nodes with different colors\n",
    "    if A in G:\n",
    "        nx.draw_networkx_nodes(G, pos, nodelist=[A], node_color='#62A87C', node_size=200, ax=ax)\n",
    "    if B in G:\n",
    "        nx.draw_networkx_nodes(G, pos, nodelist=[B], node_color='#7EE081', node_size=200, ax=ax)\n",
    "    if C in G:\n",
    "        nx.draw_networkx_nodes(G, pos, nodelist=[C], node_color='#C3F3C0', node_size=200, ax=ax)\n",
    "\n",
    "    # Draw base graph edges\n",
    "    nx.draw_networkx_edges(G, pos, edge_color='gray', width=1.0, ax=ax)\n",
    "\n",
    "    # Draw Steiner tree if provided\n",
    "    if T is not None and len(T.edges) > 0:\n",
    "        nx.draw_networkx_edges(T, pos, edge_color='black', width=2.5, ax=ax)\n",
    "\n",
    "    # Add labels for A, B, C if present\n",
    "    labels = {n: lbl for n, lbl in zip([A, B, C], ['A', 'B', 'C']) if n in G}\n",
    "    nx.draw_networkx_labels(G, pos, labels=labels, font_size=10, font_color='black', ax=ax)\n",
    "\n",
    "    ax.set_title(\"Parity Grid with A, B, C + Steiner Tree\")\n",
    "    ax.axis('off')\n",
    "    plt.show()"
   ]
  },
  {
   "cell_type": "code",
   "execution_count": 9,
   "id": "35cbd247-d452-46a8-b9c6-49f5f786fb17",
   "metadata": {
    "tags": []
   },
   "outputs": [
    {
     "data": {
      "image/png": "[encoded data removed]",
      "text/plain": [
       "<Figure size 500x500 with 1 Axes>"
      ]
     },
     "metadata": {},
     "output_type": "display_data"
    },
    {
     "name": "stdout",
     "output_type": "stream",
     "text": [
      "fidelity dictionary: {(4, 4): 1.0, (1, 1): 0.9998304277355478, (4, 1): 1.0}\n",
      "Final GHZ fidelity is: 0.9998304277355478\n"
     ]
    }
   ],
   "source": [
    "p = 0.85\n",
    "q = 0.90\n",
    "p_f = 0.80\n",
    "w = 6\n",
    "h = 6\n",
    "A = (1, 1)\n",
    "B = (w - 2, h - 2)\n",
    "C = (w - 2, 1)\n",
    "terminals = {A, B, C}\n",
    "# ---------------------------------------------------------------------------------------------------------\n",
    "G = build_initial_grid(w, h)\n",
    "Gp = percolate_graph(G, w, h, p, q, p_f, terminals)\n",
    "T = compute_steiner_tree(Gp, terminals)\n",
    "visualize_parity_grid_with_abc(Gp, w, h, T=T)\n",
    "if T != None:\n",
    "    fidelity_dict = analyze_steiner_tree_fidelity(Gp, T, terminals)\n",
    "    F_vals = [fidelity_dict[t] for t in terminals]\n",
    "    fidelity_ghz = compute_final_fidelity(*F_vals)\n",
    "    print(f\"fidelity dictionary: {fidelity_dict}\")\n",
    "    print(f\"Final GHZ fidelity is: {fidelity_ghz}\")\n",
    "else:\n",
    "    print(\"❌ No valid Steiner tree exists.\")"
   ]
  },
  {
   "cell_type": "markdown",
   "id": "144852dd-5259-42e5-8e00-bc8f78ab676a",
   "metadata": {},
   "source": [
    "<div class=\"alert alert-block alert-info\">\n",
    "<b>📡Hypergraph:</b> fidelity-aware distribution of a 3-qubit GHZ state\n",
    "using site-bond percolation to model the underlying quantum network.\n",
    "</div>"
   ]
  },
  {
   "cell_type": "markdown",
   "id": "471a3db5-5c26-45ca-9504-84337f8031cc",
   "metadata": {},
   "source": [
    "_Initialize the Hypergraph_"
   ]
  },
  {
   "cell_type": "code",
   "execution_count": 10,
   "id": "d07fabad-413d-4362-aee4-8a18fca967ce",
   "metadata": {
    "tags": []
   },
   "outputs": [],
   "source": [
    "def build_hypergraph(w, h):\n",
    "    G1 = build_initial_grid(w, h)\n",
    "# ---------------------------------------------------------------------------------------------------------\n",
    "    # potential bug: unwanted nodes are added at parity check \n",
    "    G2 = nx.Graph()\n",
    "    factor_node_list = set()\n",
    "    for i in range(w):\n",
    "        for j in range(h):\n",
    "            parity = (i + j) % 2\n",
    "            if parity == 1: # parity 1 are the base nodes \n",
    "                G2.add_node((i, j))\n",
    "                if j + 1 < h and i + 2 < w:\n",
    "                    G2.add_edge((i + 1, j), (i, j))\n",
    "                    G2.add_edge((i + 1, j), (i + 1, j + 1))\n",
    "                    G2.add_edge((i + 1, j), (i + 2, j))\n",
    "                    factor_node_list.add((i + 1, j))\n",
    "    hyperg = [G1, G2]\n",
    "    return [hyperg, factor_node_list]"
   ]
  },
  {
   "cell_type": "markdown",
   "id": "78c2a239-bd60-470a-abc9-263582b04a23",
   "metadata": {},
   "source": [
    "_Multiplex hypergraph Percolation_"
   ]
  },
  {
   "cell_type": "code",
   "execution_count": 11,
   "id": "185741a6-5177-41a7-b77b-492054d7c182",
   "metadata": {
    "tags": []
   },
   "outputs": [],
   "source": [
    "def percolate_graph(hyperg, factor_node_list, p, q, p_f, terminals):\n",
    "    G1 = hyperg[0].copy()\n",
    "    G2 = hyperg[1].copy()\n",
    "\n",
    "    # ---------------------------------------------------------------------------------------------------------\n",
    "    # Bond percolation on G1 edges with fidelity\n",
    "    for edge in list(G1.edges):\n",
    "        if random.random() > p:\n",
    "            G1.remove_edge(*edge)\n",
    "        else:\n",
    "            G1.edges[edge]['fidelity'] = 1.0 if random.random() <= p_f else random.uniform(0.9, 1.0)\n",
    "\n",
    "    # ---------------------------------------------------------------------------------------------------------\n",
    "    # Hyperedge percolation: remove factor nodes probabilistically\n",
    "    # Note that here G2 is not updated\n",
    "    factor_node_list = [node for node in factor_node_list if random.random() <= p]\n",
    "    for node in factor_node_list:\n",
    "        G2.nodes[node]['fidelity'] = 1.0 if random.random() <= p_f else random.uniform(0.9, 1.0)\n",
    "\n",
    "    # ---------------------------------------------------------------------------------------------------------\n",
    "    # Site percolation: keep nodes with probability q or if they are terminals\n",
    "    survived1 = {node for node in G1.nodes if node in terminals or random.random() <= q}\n",
    "    \n",
    "    # Update G1\n",
    "    G1 = G1.subgraph(survived1).copy()\n",
    "    \n",
    "    # Keep base nodes that survived and are also in G2\n",
    "    survived2 = set(G2.nodes) & (survived1 | set(factor_node_list))\n",
    "    G2 = G2.subgraph(survived2).copy() # G2 is updated\n",
    "\n",
    "    # Filter out factor nodes with degree less than number of terminals\n",
    "    factor_node_up = [node for node in factor_node_list if node in G2 and G2.degree[node] == len(terminals)]\n",
    "    invalid_factors = set(factor_node_list) - set(factor_node_up)\n",
    "    G2.remove_nodes_from(invalid_factors)\n",
    "\n",
    "    return [G1, G2, factor_node_up]"
   ]
  },
  {
   "cell_type": "markdown",
   "id": "4fbdab1e-b849-4b26-bf0c-f5676b582057",
   "metadata": {},
   "source": [
    "Procesing . . ."
   ]
  },
  {
   "cell_type": "code",
   "execution_count": null,
   "id": "ea1e9138-256d-4644-906e-cbe2068a19c2",
   "metadata": {},
   "outputs": [],
   "source": [
    "def factor_2_base_node(factor_node):\n",
    "    \"\"\"\n",
    "    Given a factor node coordinate (i, j),\n",
    "    return the list of its three base nodes.\n",
    "    \"\"\"\n",
    "    i, j = factor_node\n",
    "    alpha_1 = (i - 1, j)\n",
    "    alpha_2 = (i + 1, j)\n",
    "    alpha_3 = (i + 1, j + 1)\n",
    "    \n",
    "    return {alpha_1, alpha_2, alpha_3}"
   ]
  },
  {
   "cell_type": "code",
   "execution_count": null,
   "id": "b613191d-9247-4e6b-bf11-2f3df4e84015",
   "metadata": {},
   "outputs": [],
   "source": [
    "def can_expand_hyperedge(G1, F1, F2, F3):\n",
    "    \"\"\"\n",
    "    a,b in F1; c,d in F2; e,f in F3\n",
    "    True if paths a~c, d~e, f~b in G1.\n",
    "    \"\"\"\n",
    "    F1 = tuple(F1); F2 = tuple(F2); F3 = tuple(F3)\n",
    "\n",
    "    # Precompute reachability from the 9 candidates to avoid repeated BFS\n",
    "    candidates = set(F1) | set(F2) | set(F3)\n",
    "    reach = {u: set(nx.single_source_shortest_path_length(G1, u).keys()) for u in candidates}\n",
    "\n",
    "    # Try all ordered pairs (no mutation, no randomness needed)\n",
    "    for a, b in itertools.permutations(F1, 2):\n",
    "        for c, d in itertools.permutations(F2, 2):\n",
    "            for e, f in itertools.permutations(F3, 2):\n",
    "                if (c in reach[a]) and (e in reach[d]) and (b in reach[f]):\n",
    "                    return True\n",
    "    return False"
   ]
  },
  {
   "cell_type": "code",
   "execution_count": null,
   "id": "d33aa992-8b10-4936-be84-1b105b16186c",
   "metadata": {},
   "outputs": [],
   "source": [
    "# define w and h, p, q, p_f, and the set of terminals \n",
    "[hyperg, factor_node_list] = build_hypergraph(w, h) # first you initialize the hypergraph \n",
    "[G1, G2, factor_node_up] = percolate_graph(hyperg, factor_node_list, p, q, p_f, terminals) # percolation process \n",
    "    \n",
    "'''\n",
    "1. get the factor node lists\n",
    "2. create the set of all combinations of three factor node \n",
    "3. choose a member call F1, F2, F3\n",
    "4. use factor_2_base_node to get the list of each base nodes \n",
    "5. see if the three factor nodes are connected \n",
    "    if yes:\n",
    "    5.1.1 add those three to the dictionary \n",
    "    5.1.2. remove the elementary hyperedges from the dictionary\n",
    "    5.1.3. calculate the fidelity of the new hyperedge using the graph \n",
    "    5.1.4. all fidelity to the dictionary \n",
    "    if no:\n",
    "    5.2.1. go to 3. choose another set of three factor nodes \n",
    "6. now look at the remaining elementary hyperedges at the dictionary\n",
    "7. add their fidelity using the graph \n",
    "'''\n"
   ]
  },
  {
   "cell_type": "code",
   "execution_count": null,
   "id": "8f976553-6e79-4a71-be1e-f475aee8fa12",
   "metadata": {},
   "outputs": [],
   "source": []
  }
 ],
 "metadata": {
  "kernelspec": {
   "display_name": "Python 3 (ipykernel)",
   "language": "python",
   "name": "python3"
  },
  "language_info": {
   "codemirror_mode": {
    "name": "ipython",
    "version": 3
   },
   "file_extension": ".py",
   "mimetype": "text/x-python",
   "name": "python",
   "nbconvert_exporter": "python",
   "pygments_lexer": "ipython3",
   "version": "3.11.5"
  }
 },
 "nbformat": 4,
 "nbformat_minor": 5
}
