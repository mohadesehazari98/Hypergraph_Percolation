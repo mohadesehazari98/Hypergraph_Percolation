{
 "cells": [
  {
   "cell_type": "markdown",
   "id": "8552d580-bf3b-4d14-81b3-0d0e16211f99",
   "metadata": {},
   "source": [
    "# Graph Initialization"
   ]
  },
  {
   "cell_type": "code",
   "execution_count": 1,
   "id": "1c0ea0a2-6e33-431f-8e60-3f449a05266b",
   "metadata": {},
   "outputs": [],
   "source": [
    "import pandas as pd\n",
    "\n",
    "def initialize_multiplex_hypergraph(w: int, h: int):\n",
    "    nodes = {1: set(), 2: set(), 3: set()}\n",
    "    for i in range(w):\n",
    "        for j in range(h):\n",
    "            nodes[1].add((i, j))\n",
    "            if (i + j) % 2 == 1:\n",
    "                nodes[2].add((i, j))\n",
    "            if (i + j) % 2 == 0:\n",
    "                nodes[3].add((i, j))\n",
    "\n",
    "    hyperedges = {1: [], 2: [], 3: []}\n",
    "    for i, j in nodes[1]:\n",
    "        if (i + 1, j) in nodes[1]:\n",
    "            hyperedges[1].append(((i, j), (i + 1, j)))\n",
    "        if (i, j + 1) in nodes[1]:\n",
    "            hyperedges[1].append(((i, j), (i, j + 1)))\n",
    "\n",
    "    for i, j in nodes[2]:\n",
    "        candidates = [(i + 1, j + 1), (i + 2, j)]\n",
    "        if all(pt in nodes[2] for pt in candidates):\n",
    "            hyperedges[2].append(((i, j), (i + 1, j + 1), (i + 2, j)))\n",
    "\n",
    "    for i, j in nodes[3]:\n",
    "        if i % 2 == 0 and j % 2 == 0:\n",
    "            candidates = [(i + 1, j - 1), (i + 1, j + 1), (i + 2, j)]\n",
    "            if all(pt in nodes[3] for pt in candidates):\n",
    "                hyperedges[3].append(((i, j), (i + 1, j - 1), (i + 1, j + 1), (i + 2, j)))\n",
    "\n",
    "    return nodes, hyperedges"
   ]
  },
  {
   "cell_type": "code",
   "execution_count": 2,
   "id": "f7a44a97-e24e-4043-9397-09d9aecc56b6",
   "metadata": {
    "tags": []
   },
   "outputs": [
    {
     "name": "stdout",
     "output_type": "stream",
     "text": [
      "          Layer  Activated Hyperedges\n",
      "0  1 (degree-2)                    60\n",
      "1  2 (degree-3)                    10\n",
      "2  3 (degree-4)                     4\n"
     ]
    }
   ],
   "source": [
    "# Example usage\n",
    "nodes, hyperedges = initialize_multiplex_hypergraph(6, 6)\n",
    "\n",
    "# Summary print\n",
    "summary = pd.DataFrame({\n",
    "    \"Layer\": [\"1 (degree-2)\", \"2 (degree-3)\", \"3 (degree-4)\"],\n",
    "    \"Activated Hyperedges\": [len(hyperedges[1]), len(hyperedges[2]), len(hyperedges[3])]\n",
    "})\n",
    "print(summary)"
   ]
  },
  {
   "cell_type": "markdown",
   "id": "7a9ced4f-e583-4f52-92d0-8c18b4736a9d",
   "metadata": {},
   "source": [
    "# Percolation Process "
   ]
  },
  {
   "cell_type": "code",
   "execution_count": null,
   "id": "425a6948-aeb6-42d4-9dac-fe5ab216c888",
   "metadata": {},
   "outputs": [],
   "source": []
  },
  {
   "cell_type": "markdown",
   "id": "5c651f62-8149-49ad-b2e8-a1a1a351abe5",
   "metadata": {},
   "source": [
    "# Measure of Connectivity"
   ]
  },
  {
   "cell_type": "code",
   "execution_count": 3,
   "id": "00fa76ff-686d-4fb0-a714-8a353d854d1f",
   "metadata": {
    "tags": []
   },
   "outputs": [],
   "source": [
    "from collections import defaultdict, deque\n",
    "from typing import Dict, Set, Tuple, List\n",
    "\n",
    "def compute_EGR(\n",
    "    nodes: Dict[int, Set[Tuple[int, int]]],\n",
    "    hyperedges: Dict[int, List[Tuple[Tuple[int, int], ...]]],\n",
    "    source: Tuple[int, int],\n",
    "    target: Tuple[int, int]\n",
    ") -> int:\n",
    "    all_hyperedges = []\n",
    "    for layer in hyperedges:\n",
    "        all_hyperedges.extend(hyperedges[layer])\n",
    "\n",
    "    node_to_hyperedges = defaultdict(set)\n",
    "    for idx, hedge in enumerate(all_hyperedges):\n",
    "        for node in hedge:\n",
    "            node_to_hyperedges[node].add(idx)\n",
    "\n",
    "    used_hyperedges = set()\n",
    "    EGR = 0\n",
    "\n",
    "    def dfs(current, target, visited_nodes, used_hyperedges_local):\n",
    "        if current == target:\n",
    "            return []\n",
    "        for hedge_idx in node_to_hyperedges[current]:\n",
    "            if hedge_idx in used_hyperedges_local:\n",
    "                continue\n",
    "            hedge = all_hyperedges[hedge_idx]\n",
    "            for next_node in hedge:\n",
    "                if next_node == current or next_node in visited_nodes:\n",
    "                    continue\n",
    "                path = dfs(next_node, target, visited_nodes | {next_node}, used_hyperedges_local | {hedge_idx})\n",
    "                if path is not None:\n",
    "                    return [hedge_idx] + path\n",
    "        return None\n",
    "\n",
    "    while True:\n",
    "        path = dfs(source, target, {source}, used_hyperedges)\n",
    "        if path is None:\n",
    "            break\n",
    "        used_hyperedges.update(path)\n",
    "        EGR += 1\n",
    "\n",
    "    return EGR\n",
    "\n",
    "def compute_R(\n",
    "    nodes: Dict[int, Set[Tuple[int, int]]],\n",
    "    hyperedges: Dict[int, List[Tuple[Tuple[int, int], ...]]]\n",
    ") -> float:\n",
    "    all_hyperedges = []\n",
    "    for layer in hyperedges:\n",
    "        all_hyperedges.extend(hyperedges[layer])\n",
    "\n",
    "    adjacency = defaultdict(set)\n",
    "    for hedge in all_hyperedges:\n",
    "        for u in hedge:\n",
    "            for v in hedge:\n",
    "                if u != v:\n",
    "                    adjacency[u].add(v)\n",
    "\n",
    "    visited = set()\n",
    "    max_component_size = 0\n",
    "\n",
    "    for node in set().union(*nodes.values()):\n",
    "        if node in visited:\n",
    "            continue\n",
    "        queue = deque([node])\n",
    "        component = set()\n",
    "        while queue:\n",
    "            curr = queue.popleft()\n",
    "            if curr in visited:\n",
    "                continue\n",
    "            visited.add(curr)\n",
    "            component.add(curr)\n",
    "            queue.extend(adjacency[curr] - visited)\n",
    "        max_component_size = max(max_component_size, len(component))\n",
    "\n",
    "    total_nodes = len(set().union(*nodes.values()))\n",
    "    R = max_component_size / total_nodes if total_nodes > 0 else 0.0\n",
    "\n",
    "    return R"
   ]
  },
  {
   "cell_type": "code",
   "execution_count": 5,
   "id": "f5409ce5-1896-448e-b5be-133db058ab5a",
   "metadata": {
    "tags": []
   },
   "outputs": [
    {
     "data": {
      "text/html": [
       "<div>\n",
       "<style scoped>\n",
       "    .dataframe tbody tr th:only-of-type {\n",
       "        vertical-align: middle;\n",
       "    }\n",
       "\n",
       "    .dataframe tbody tr th {\n",
       "        vertical-align: top;\n",
       "    }\n",
       "\n",
       "    .dataframe thead th {\n",
       "        text-align: right;\n",
       "    }\n",
       "</style>\n",
       "<table border=\"1\" class=\"dataframe\">\n",
       "  <thead>\n",
       "    <tr style=\"text-align: right;\">\n",
       "      <th></th>\n",
       "      <th>EGR (A→B)</th>\n",
       "      <th>Giant Component Ratio (R)</th>\n",
       "    </tr>\n",
       "  </thead>\n",
       "  <tbody>\n",
       "    <tr>\n",
       "      <th>0</th>\n",
       "      <td>2</td>\n",
       "      <td>1.0</td>\n",
       "    </tr>\n",
       "  </tbody>\n",
       "</table>\n",
       "</div>"
      ],
      "text/plain": [
       "   EGR (A→B)  Giant Component Ratio (R)\n",
       "0          2                        1.0"
      ]
     },
     "execution_count": 5,
     "metadata": {},
     "output_type": "execute_result"
    }
   ],
   "source": [
    "# Example usage\n",
    "nodes, hyperedges = initialize_multiplex_hypergraph(20, 20)\n",
    "A = (0, 0)\n",
    "B = (19, 19)\n",
    "\n",
    "EGR_val = compute_EGR(nodes, hyperedges, A, B)\n",
    "R_val = compute_R(nodes, hyperedges)\n",
    "\n",
    "import pandas as pd\n",
    "pd.DataFrame([{\"EGR (A→B)\": EGR_val, \"Giant Component Ratio (R)\": R_val}])"
   ]
  },
  {
   "cell_type": "code",
   "execution_count": null,
   "id": "f233dc37-7c1e-4e01-9ee6-e949cf2da815",
   "metadata": {},
   "outputs": [],
   "source": []
  }
 ],
 "metadata": {
  "kernelspec": {
   "display_name": "Python 3 (ipykernel)",
   "language": "python",
   "name": "python3"
  },
  "language_info": {
   "codemirror_mode": {
    "name": "ipython",
    "version": 3
   },
   "file_extension": ".py",
   "mimetype": "text/x-python",
   "name": "python",
   "nbconvert_exporter": "python",
   "pygments_lexer": "ipython3",
   "version": "3.11.5"
  }
 },
 "nbformat": 4,
 "nbformat_minor": 5
}
