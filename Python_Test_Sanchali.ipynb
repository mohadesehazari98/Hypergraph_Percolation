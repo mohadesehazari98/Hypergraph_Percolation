{
  "cells": [
    {
      "cell_type": "code",
      "execution_count": 14,
      "id": "686ccf6c-3211-4e86-90c2-bb51cbee76fe",
      "metadata": {
        "tags": [],
        "id": "686ccf6c-3211-4e86-90c2-bb51cbee76fe"
      },
      "outputs": [],
      "source": [
        "import random\n",
        "import numpy as np\n",
        "import networkx as nx\n",
        "import matplotlib.pyplot as plt"
      ]
    },
    {
      "cell_type": "code",
      "execution_count": 15,
      "id": "ed6c0e97-7097-495d-834a-710363d40627",
      "metadata": {
        "tags": [],
        "id": "ed6c0e97-7097-495d-834a-710363d40627"
      },
      "outputs": [],
      "source": [
        "from math import floor\n",
        "from itertools import combinations\n",
        "from collections import defaultdict\n",
        "from networkx import NetworkXException\n",
        "from networkx.algorithms.approximation import steiner_tree"
      ]
    },
    {
      "cell_type": "markdown",
      "id": "a1080465-e4c4-4a02-a3e2-c6638128ca75",
      "metadata": {
        "id": "a1080465-e4c4-4a02-a3e2-c6638128ca75"
      },
      "source": [
        "<div class=\"alert alert-block alert-info\">\n",
        "<b>🌌Graph:</b> fidelity-aware distribution of a 3-qubit GHZ state\n",
        "using site-bond percolation to model the underlying quantum network.\n",
        "</div>"
      ]
    },
    {
      "cell_type": "markdown",
      "id": "184ddb2c-25b1-4592-abf8-42292554aa45",
      "metadata": {
        "id": "184ddb2c-25b1-4592-abf8-42292554aa45"
      },
      "source": [
        "_Initialize the Graph_"
      ]
    },
    {
      "cell_type": "code",
      "execution_count": 16,
      "id": "aa72a9af-3b13-48b5-93f7-367315bab7c0",
      "metadata": {
        "tags": [],
        "id": "aa72a9af-3b13-48b5-93f7-367315bab7c0"
      },
      "outputs": [],
      "source": [
        "def build_initial_grid(w, h):\n",
        "    G = nx.Graph()\n",
        "    for i in range(w):\n",
        "        for j in range(h):\n",
        "            G.add_node((i, j))\n",
        "            parity = (i + j) % 2\n",
        "            '''\n",
        "            CHANGE: since the edges do not have direction, we can\n",
        "            add edges only in the +1 direction.\n",
        "\n",
        "            # ORIGINAL:\n",
        "            for dx in [-1, 1]:\n",
        "                ni = i + dx\n",
        "                if 0 <= ni < w:\n",
        "                    G.add_edge((i, j), (ni, j))\n",
        "            '''\n",
        "            # NEW:\n",
        "            ni = i + 1\n",
        "            if 0 <= ni < w:\n",
        "                G.add_edge((i, j), (ni, j))\n",
        "\n",
        "            if parity == 0 and j + 1 < h:\n",
        "                G.add_edge((i, j), (i, j + 1))\n",
        "            elif parity == 1 and j - 1 >= 0:\n",
        "                G.add_edge((i, j), (i, j - 1))\n",
        "    return G"
      ]
    },
    {
      "cell_type": "markdown",
      "id": "4a834c92-5239-4beb-a32f-557b49b2e6d9",
      "metadata": {
        "id": "4a834c92-5239-4beb-a32f-557b49b2e6d9"
      },
      "source": [
        "_site-bond percolation_"
      ]
    },
    {
      "cell_type": "code",
      "execution_count": 17,
      "id": "fe3d06eb-88b0-4355-91b5-dd3abd61220c",
      "metadata": {
        "id": "fe3d06eb-88b0-4355-91b5-dd3abd61220c"
      },
      "outputs": [],
      "source": [
        "def percolate_graph(G, w, h, p, q, p_f, terminals):\n",
        "    Gp = G.copy()\n",
        "    # Bond\n",
        "    for edge in list(Gp.edges):\n",
        "        if random.random() > p:\n",
        "            Gp.remove_edge(*edge)\n",
        "        else:\n",
        "            if random.random() < p_f:\n",
        "                Gp.edges[edge]['fidelity'] = 1.0\n",
        "            else:\n",
        "                Gp.edges[edge]['fidelity'] = random.uniform(0.9, 1.0)\n",
        "\n",
        "    '''\n",
        "    CHANGE: instead of returning first connected component,\n",
        "    return that with the highest average fidelity of the edges.\n",
        "\n",
        "    # ORIGINAL:\n",
        "    # Site\n",
        "    for component in nx.connected_components(Gp):\n",
        "        if terminals <= component:\n",
        "            surviving_nodes = set()\n",
        "            for node in component:\n",
        "                if node in terminals or random.random() <= q:\n",
        "                    surviving_nodes.add(node)\n",
        "            return Gp.subgraph(surviving_nodes).copy()\n",
        "    '''\n",
        "    # NEW:\n",
        "    # Site\n",
        "    components_with_terminals = []\n",
        "    for component in nx.connected_components(Gp):\n",
        "        if terminals <= component:\n",
        "            surviving_nodes = set()\n",
        "            for node in component:\n",
        "                if node in terminals or random.random() <= q:\n",
        "                    surviving_nodes.add(node)\n",
        "            candidate_component = Gp.subgraph(surviving_nodes).copy()\n",
        "\n",
        "            fidelities = [candidate_component.edges[edge]['fidelity'] for edge in list(candidate_component.edges)]\n",
        "            average_fidelity = sum(fidelities) / len(fidelities)\n",
        "            components_with_terminals.append((candidate_component, average_fidelity))\n",
        "\n",
        "    if len(components_with_terminals) > 0:\n",
        "        best_component, best_average_fidelity = max(components_with_terminals, key = lambda x: x[1])\n",
        "        return best_component\n",
        "    else:\n",
        "        return None\n",
        "# ---------------------------------------------------------------------------------------------------------\n",
        "# calculate the tree\n",
        "def compute_steiner_tree(G, terminals, weight='fidelity'):\n",
        "    comp = nx.node_connected_component(G, next(iter(terminals)))\n",
        "    if terminals <= comp:\n",
        "        return steiner_tree(G.subgraph(comp).copy(), terminals, weight=weight, method=\"kou\")\n",
        "    return None"
      ]
    },
    {
      "cell_type": "markdown",
      "id": "1829fc11-7bd0-4e5b-bcbf-08ee5f1f1a32",
      "metadata": {
        "id": "1829fc11-7bd0-4e5b-bcbf-08ee5f1f1a32"
      },
      "source": [
        "_fidelity of the chain_"
      ]
    },
    {
      "cell_type": "code",
      "execution_count": 18,
      "id": "51e1775c-b048-46ce-a2f7-a6b603abdefb",
      "metadata": {
        "tags": [],
        "id": "51e1775c-b048-46ce-a2f7-a6b603abdefb"
      },
      "outputs": [],
      "source": [
        "def compute_fidelity_along_path(G, path):\n",
        "    fidelity = G[path[0]][path[1]].get(\"fidelity\", 1.0)\n",
        "    for i in range(1, len(path) - 1):\n",
        "        f_next = G[path[i]][path[i + 1]].get(\"fidelity\", 1.0)\n",
        "        fidelity = fidelity * f_next + ((1 - fidelity) * (1 - f_next)) / 3\n",
        "    return fidelity\n",
        "\n",
        "def analyze_steiner_tree_fidelity(Gp, T, terminals):\n",
        "    '''\n",
        "    CHANGE: select the center node by the node yielding the\n",
        "    highest average fidelity to the other terminals.\n",
        "\n",
        "    # ORIGINAL:\n",
        "    candidates = [n for n in T if T.degree[n] == max(dict(T.degree()).values())]\n",
        "    center = next((n for n in candidates if n in terminals), candidates[0])\n",
        "    '''\n",
        "    # NEW:\n",
        "    candidate_centers = []\n",
        "    best_center = None\n",
        "    for i in terminals:\n",
        "        total_fidelity = 0\n",
        "        reachable_nodes = 0\n",
        "        for j in terminals:\n",
        "            if i == j or not nx.has_path(T, i, j):\n",
        "                continue\n",
        "            path = nx.shortest_path(T, i, j)\n",
        "            fidelity = compute_fidelity_along_path(Gp, path)\n",
        "            total_fidelity += fidelity\n",
        "            reachable_nodes += 1\n",
        "        average_fidelity = total_fidelity / reachable_nodes\n",
        "        candidate_centers.append((i, average_fidelity))\n",
        "    best_center, best_average_fidelity = max(candidate_centers, key = lambda x: x[1])\n",
        "\n",
        "    center = best_center\n",
        "    # center = random.choice(list(terminals))\n",
        "    print(f\"Center node: {center}\")\n",
        "    fidelity_dict = {}\n",
        "    for terminal in terminals:\n",
        "        if terminal != center:\n",
        "            path = nx.shortest_path(T, center, terminal)\n",
        "            fidelity = compute_fidelity_along_path(Gp, path)\n",
        "            fidelity_dict[terminal] = fidelity\n",
        "        else:\n",
        "            fidelity_dict[center] = 1.0\n",
        "    return fidelity_dict\n",
        "# ---------------------------------------------------------------------------------------------------------\n",
        "# final fidelity\n",
        "def compute_final_fidelity(F1, F2, F3):\n",
        "    eps1 = (1 - F1) / 3\n",
        "    eps2 = (1 - F2) / 3\n",
        "    eps3 = (1 - F3) / 3\n",
        "    e1 = eps1 + eps2 + eps3\n",
        "    e2 = eps1 * eps2 + eps1 * eps3 + eps2 * eps3\n",
        "    e3 = eps1 * eps2 * eps3\n",
        "    F4 = 1 - 3 * e1 + 10 * e2 - 32 * e3\n",
        "    return F4"
      ]
    },
    {
      "cell_type": "markdown",
      "id": "0cdebf4f-283d-4056-bca6-36d567dd3fe0",
      "metadata": {
        "id": "0cdebf4f-283d-4056-bca6-36d567dd3fe0"
      },
      "source": [
        "📉_Visualize_"
      ]
    },
    {
      "cell_type": "code",
      "execution_count": 19,
      "id": "c75f1802-aaaf-4d98-919e-06410b05501a",
      "metadata": {
        "tags": [],
        "id": "c75f1802-aaaf-4d98-919e-06410b05501a"
      },
      "outputs": [],
      "source": [
        "def visualize_parity_grid_with_abc(G, w, h, T=None, scale=0.8):\n",
        "    pos = { (i, j): (scale * i, -scale * j) for (i, j) in G.nodes }\n",
        "\n",
        "    A = (1, 1)\n",
        "    B = (w - 2, h - 2)\n",
        "    C = (w - 2, 1)\n",
        "\n",
        "    terminals = {A, B, C}\n",
        "    special_nodes = [n for n in terminals if n in G]\n",
        "    regular_nodes = [n for n in G.nodes if n not in special_nodes]\n",
        "\n",
        "    fig, ax = plt.subplots(figsize=(5, 5), constrained_layout=True)\n",
        "\n",
        "    # Draw regular nodes\n",
        "    nx.draw_networkx_nodes(G, pos, nodelist=regular_nodes, node_color='#4F8FC0', node_size=100, ax=ax)\n",
        "\n",
        "    # Draw special nodes with different colors\n",
        "    if A in G:\n",
        "        nx.draw_networkx_nodes(G, pos, nodelist=[A], node_color='#62A87C', node_size=200, ax=ax)\n",
        "    if B in G:\n",
        "        nx.draw_networkx_nodes(G, pos, nodelist=[B], node_color='#7EE081', node_size=200, ax=ax)\n",
        "    if C in G:\n",
        "        nx.draw_networkx_nodes(G, pos, nodelist=[C], node_color='#C3F3C0', node_size=200, ax=ax)\n",
        "\n",
        "    # Draw base graph edges\n",
        "    nx.draw_networkx_edges(G, pos, edge_color='gray', width=1.0, ax=ax)\n",
        "\n",
        "    # Draw Steiner tree if provided\n",
        "    if T is not None and len(T.edges) > 0:\n",
        "        nx.draw_networkx_edges(T, pos, edge_color='black', width=2.5, ax=ax)\n",
        "\n",
        "    # Add labels for A, B, C if present\n",
        "    labels = {n: lbl for n, lbl in zip([A, B, C], ['A', 'B', 'C']) if n in G}\n",
        "    nx.draw_networkx_labels(G, pos, labels=labels, font_size=10, font_color='black', ax=ax)\n",
        "\n",
        "    ax.set_title(\"Parity Grid with A, B, C + Steiner Tree\")\n",
        "    ax.axis('off')\n",
        "    plt.show()"
      ]
    },
    {
      "cell_type": "code",
      "execution_count": 20,
      "id": "35cbd247-d452-46a8-b9c6-49f5f786fb17",
      "metadata": {
        "tags": [],
        "colab": {
          "base_uri": "https://localhost:8080/",
          "height": 580
        },
        "id": "35cbd247-d452-46a8-b9c6-49f5f786fb17",
        "outputId": "0748e2a9-c782-4051-c4f5-490c12a84712"
      },
      "outputs": [
        {
          "output_type": "display_data",
          "data": {
            "text/plain": [
              "<Figure size 500x500 with 1 Axes>"
            ],
            "image/png": "[encoded data removed]"
          },
          "metadata": {}
        },
        {
          "output_type": "stream",
          "name": "stdout",
          "text": [
            "Center node: (1, 1)\n",
            "fidelity dictionary: {(4, 4): 0.9158753281265356, (1, 1): 1.0, (4, 1): 1.0}\n",
            "Final GHZ fidelity is: 0.9158753281265356\n"
          ]
        }
      ],
      "source": [
        "'''\n",
        "CHANGE: set a random seed to allow for reproducibility.\n",
        "'''\n",
        "# NEW\n",
        "random.seed(42)\n",
        "\n",
        "p = 0.90\n",
        "q = 0.95\n",
        "p_f = 0.80\n",
        "w = 6\n",
        "h = 6\n",
        "A = (1, 1)\n",
        "B = (w - 2, h - 2)\n",
        "C = (w - 2, 1)\n",
        "terminals = {A, B, C}\n",
        "# ---------------------------------------------------------------------------------------------------------\n",
        "G = build_initial_grid(w, h)\n",
        "Gp = percolate_graph(G, w, h, p, q, p_f, terminals)\n",
        "T = compute_steiner_tree(Gp, terminals)\n",
        "visualize_parity_grid_with_abc(Gp, w, h, T=T)\n",
        "if T != None:\n",
        "    fidelity_dict = analyze_steiner_tree_fidelity(Gp, T, terminals)\n",
        "    F_vals = [fidelity_dict[t] for t in terminals]\n",
        "    fidelity_ghz = compute_final_fidelity(*F_vals)\n",
        "    print(f\"fidelity dictionary: {fidelity_dict}\")\n",
        "    print(f\"Final GHZ fidelity is: {fidelity_ghz}\")\n",
        "else:\n",
        "    print(\"❌ No valid Steiner tree exists.\")"
      ]
    },
    {
      "cell_type": "markdown",
      "id": "144852dd-5259-42e5-8e00-bc8f78ab676a",
      "metadata": {
        "id": "144852dd-5259-42e5-8e00-bc8f78ab676a"
      },
      "source": [
        "<div class=\"alert alert-block alert-info\">\n",
        "<b>📡Hypergraph:</b> fidelity-aware distribution of a 3-qubit GHZ state\n",
        "using site-bond percolation to model the underlying quantum network.\n",
        "</div>"
      ]
    },
    {
      "cell_type": "markdown",
      "id": "471a3db5-5c26-45ca-9504-84337f8031cc",
      "metadata": {
        "id": "471a3db5-5c26-45ca-9504-84337f8031cc"
      },
      "source": [
        "_Initialize the Hypergraph_"
      ]
    },
    {
      "cell_type": "code",
      "execution_count": 21,
      "id": "d07fabad-413d-4362-aee4-8a18fca967ce",
      "metadata": {
        "tags": [],
        "id": "d07fabad-413d-4362-aee4-8a18fca967ce"
      },
      "outputs": [],
      "source": [
        "def build_hypergraph(w, h):\n",
        "    G1 = build_initial_grid(w, h)\n",
        "# ---------------------------------------------------------------------------------------------------------\n",
        "    # potential bug: unwanted nodes are added at parity check\n",
        "    G2 = nx.Graph()\n",
        "    for i in range(w):\n",
        "        for j in range(h):\n",
        "            parity = (i + j) % 2\n",
        "            if parity == 1: # parity 1 are the base nodes\n",
        "                G2.add_node((i, j))\n",
        "                if j + 1 < h and i + 2 < w:\n",
        "                    G2.add_edge((i + 1, j), (i, j))\n",
        "                    G2.add_edge((i + 1, j), (i + 1, j + 1))\n",
        "                    G2.add_edge((i + 1, j), (i + 2, j))\n",
        "\n",
        "    hyperg = [G1, G2]\n",
        "    return hyperg"
      ]
    },
    {
      "cell_type": "markdown",
      "id": "78c2a239-bd60-470a-abc9-263582b04a23",
      "metadata": {
        "id": "78c2a239-bd60-470a-abc9-263582b04a23"
      },
      "source": [
        "_Multiplex hypergraph Percolation_"
      ]
    },
    {
      "cell_type": "code",
      "execution_count": 22,
      "id": "185741a6-5177-41a7-b77b-492054d7c182",
      "metadata": {
        "tags": [],
        "id": "185741a6-5177-41a7-b77b-492054d7c182"
      },
      "outputs": [],
      "source": [
        "def percolate_graph(hyperg, w, h, p, q, p_f, terminals):\n",
        "    G1 = hyperg[0].copy()\n",
        "    G2 = hyperg[1].copy()\n",
        "    # ---------------------------------------------------------------------------------------------------------\n",
        "    # Bond\n",
        "    for edge in list(G1.edges):\n",
        "        if random.random() > p:\n",
        "            G1.remove_edge(*edge)\n",
        "        else:\n",
        "            if random.random() < p_f:\n",
        "                G1.edges[edge]['fidelity'] = 1.0\n",
        "            else:\n",
        "                G1.edges[edge]['fidelity'] = random.uniform(0.9, 1.0)\n",
        "    # ---------------------------------------------------------------------------------------------------------\n",
        "    # Hyperedge\n",
        "    factor_nodes = set()\n",
        "    for node in list(G2.nodes):\n",
        "            i, j = node\n",
        "            if (i + j) % 2 == 0: # parity zero are hyperedges\n",
        "                factor_nodes.add(node) # list of factor nodes\n",
        "                if random.random() > p:\n",
        "                    G2.remove_node(node)\n",
        "                else:\n",
        "                    if random.random() < p_f:\n",
        "                        G2.nodes[node]['fidelity'] = 1.0\n",
        "                    else:\n",
        "                        G2.nodes[node]['fidelity'] = random.uniform(0.9, 1.0)\n",
        "    # ---------------------------------------------------------------------------------------------------------\n",
        "    '''\n",
        "    CHANGE: instead of returning first connected component,\n",
        "    return that with the highest average fidelity of the edges.\n",
        "\n",
        "    # ORIGINAL:\n",
        "    # Site\n",
        "    for component in nx.connected_components(G1):\n",
        "        if terminals <= component:\n",
        "            survived1 = set()\n",
        "            for node in component:\n",
        "                if node in terminals or random.random() <= q:\n",
        "                    survived1.add(node)\n",
        "\n",
        "            survived2 = set(G2.nodes) & (survived1 | factor_nodes)\n",
        "            result = [G1.subgraph(survived1).copy(), G2.subgraph(survived2).copy(), factor_nodes]\n",
        "            return result\n",
        "    return None\n",
        "    '''\n",
        "    # NEW:\n",
        "    components_with_terminals = []\n",
        "    for component in nx.connected_components(G1):\n",
        "        if terminals <= component:\n",
        "            surviving_nodes = set()\n",
        "            for node in component:\n",
        "                if node in terminals or random.random() <= q:\n",
        "                    surviving_nodes.add(node)\n",
        "            candidate_component = Gp.subgraph(surviving_nodes).copy()\n",
        "\n",
        "            fidelities = [candidate_component.edges[edge]['fidelity'] for edge in list(candidate_component.edges)]\n",
        "            average_fidelity = sum(fidelities) / len(fidelities)\n",
        "\n",
        "            survived2 = set(G2.nodes) & (surviving_nodes | factor_nodes)\n",
        "            components_with_terminals.append(([candidate_component, G2.subgraph(survived2).copy(), factor_nodes], average_fidelity))\n",
        "\n",
        "    if len(components_with_terminals) > 0:\n",
        "        best_component, best_average_fidelity = max(components_with_terminals, key = lambda x: x[1])\n",
        "        return best_component\n",
        "    else:\n",
        "        return None\n",
        "\n",
        "# ---------------------------------------------------------------------------------------------------------\n"
      ]
    },
    {
      "cell_type": "code",
      "execution_count": 23,
      "id": "fa3edf1d-f933-4550-ad62-f04a29f5627d",
      "metadata": {
        "tags": [],
        "colab": {
          "base_uri": "https://localhost:8080/",
          "height": 528
        },
        "id": "fa3edf1d-f933-4550-ad62-f04a29f5627d",
        "outputId": "ce368e6a-4c1a-4c30-d434-72a42fb7cd4a"
      },
      "outputs": [
        {
          "output_type": "display_data",
          "data": {
            "text/plain": [
              "<Figure size 500x500 with 1 Axes>"
            ],
            "image/png": "[encoded data removed]"
          },
          "metadata": {}
        }
      ],
      "source": [
        "p = 0.80\n",
        "q = 0.90\n",
        "p_f = 0.80\n",
        "w = 5\n",
        "h = 5\n",
        "A = (1, 1)\n",
        "B = (w - 2, h - 2)\n",
        "C = (w - 2, 1)\n",
        "terminals = {A, B, C}\n",
        "# ---------------------------------------------------------------------------------------------------------\n",
        "hyperg = build_hypergraph(w, h)\n",
        "per_hyperg = percolate_graph(hyperg, w, h, p, q, p_f, terminals)\n",
        "# ---------------------------------------------------------------------------------------------------------\n",
        "if per_hyperg != None:\n",
        "    visualize_parity_grid_with_abc(per_hyperg[0], w, h)\n",
        "else:\n",
        "    print(\"❌ Does not include terminals.\")"
      ]
    },
    {
      "cell_type": "code",
      "execution_count": 24,
      "id": "1018e656-013d-4c3e-b028-4d88d7642edf",
      "metadata": {
        "tags": [],
        "colab": {
          "base_uri": "https://localhost:8080/",
          "height": 528
        },
        "id": "1018e656-013d-4c3e-b028-4d88d7642edf",
        "outputId": "95813b91-169c-483f-ffea-c77d29493925"
      },
      "outputs": [
        {
          "output_type": "display_data",
          "data": {
            "text/plain": [
              "<Figure size 500x500 with 1 Axes>"
            ],
            "image/png": "[encoded data removed]"
          },
          "metadata": {}
        }
      ],
      "source": [
        "visualize_parity_grid_with_abc(per_hyperg[1], w, h)"
      ]
    },
    {
      "cell_type": "code",
      "execution_count": 25,
      "id": "0227a116-f825-492f-94e8-64ef4daebd16",
      "metadata": {
        "tags": [],
        "id": "0227a116-f825-492f-94e8-64ef4daebd16"
      },
      "outputs": [],
      "source": [
        "def plot_hypergraph_components(hypergraph, w, h):\n",
        "    decomposed_graph = decompose_edges_by_len(hypergraph)\n",
        "    decomposed_edges = decomposed_graph['edges']\n",
        "    base_nodes = decomposed_graph['nodes']\n",
        "    n_edge_lengths = len(decomposed_edges)\n",
        "\n",
        "    fig, axs = plt.subplots(1, n_edge_lengths, figsize=(5 * n_edge_lengths, 5))\n",
        "    axs = np.atleast_1d(axs)\n",
        "    for ax in axs:\n",
        "        ax.axis('off')\n",
        "    fig.patch.set_facecolor('#003049')\n",
        "\n",
        "    for i, edge_order in enumerate(sorted(decomposed_edges)):\n",
        "        edges = decomposed_edges[edge_order]\n",
        "        g = nx.DiGraph()\n",
        "        factor_nodes = []\n",
        "\n",
        "        g.add_nodes_from(base_nodes)\n",
        "\n",
        "        if edge_order == 2:\n",
        "            g.add_edges_from(edges)\n",
        "        else:\n",
        "            for edge in edges:\n",
        "                factor_node = (floor(sum(i for (i, j) in edge) / edge_order),\n",
        "                                  floor(sum(j for (i, j) in edge) / edge_order))\n",
        "                factor_nodes.append(factor_node)\n",
        "                g.add_node(factor_node)\n",
        "                for node in edge:\n",
        "                    g.add_edge(node, factor_node)\n",
        "\n",
        "        def grid_layout(w, h):\n",
        "            return {(i, j): (i, -j) for i in range(w) for j in range(h)}\n",
        "\n",
        "        pos = grid_layout(w, h)\n",
        "        nx.draw_networkx_nodes(g, pos, nodelist=base_nodes, node_size=150,\n",
        "                               ax=axs[i], node_color='#f77f00', label='True Nodes')\n",
        "        nx.draw_networkx_nodes(g, pos, nodelist=factor_nodes, node_size=300,\n",
        "                               ax=axs[i], node_color='#d62828', label='Factor Nodes')\n",
        "        nx.draw_networkx_edges(g, pos, ax=axs[i], edge_color='#eae2b7',\n",
        "                               connectionstyle='arc3,rad=0.05', arrowstyle='-')\n",
        "        # labels = {node: str(node) for node in base_nodes}\n",
        "        # nx.draw_networkx_labels(g, pos, labels, ax=axs[i])\n",
        "    plt.tight_layout()\n",
        "    plt.show()"
      ]
    },
    {
      "cell_type": "code",
      "execution_count": 26,
      "id": "11adac92-84aa-457e-b41a-436b49355afc",
      "metadata": {
        "tags": [],
        "colab": {
          "base_uri": "https://localhost:8080/",
          "height": 297
        },
        "id": "11adac92-84aa-457e-b41a-436b49355afc",
        "outputId": "de9b2c22-6c8e-4629-acf0-b6ff6cc8b661"
      },
      "outputs": [
        {
          "output_type": "error",
          "ename": "NameError",
          "evalue": "name 'decompose_edges_by_len' is not defined",
          "traceback": [
            "\u001b[0;31m---------------------------------------------------------------------------\u001b[0m",
            "\u001b[0;31mNameError\u001b[0m                                 Traceback (most recent call last)",
            "\u001b[0;32m/tmp/ipython-input-1427011032.py\u001b[0m in \u001b[0;36m<cell line: 0>\u001b[0;34m()\u001b[0m\n\u001b[1;32m      2\u001b[0m \u001b[0mh\u001b[0m \u001b[0;34m=\u001b[0m \u001b[0;36m6\u001b[0m\u001b[0;34m\u001b[0m\u001b[0;34m\u001b[0m\u001b[0m\n\u001b[1;32m      3\u001b[0m \u001b[0mbuild_hypergraph\u001b[0m\u001b[0;34m(\u001b[0m\u001b[0mw\u001b[0m\u001b[0;34m,\u001b[0m \u001b[0mh\u001b[0m\u001b[0;34m)\u001b[0m\u001b[0;34m\u001b[0m\u001b[0;34m\u001b[0m\u001b[0m\n\u001b[0;32m----> 4\u001b[0;31m \u001b[0mplot_hypergraph_components\u001b[0m\u001b[0;34m(\u001b[0m\u001b[0mbuild_hypergraph\u001b[0m\u001b[0;34m(\u001b[0m\u001b[0mw\u001b[0m\u001b[0;34m,\u001b[0m \u001b[0mh\u001b[0m\u001b[0;34m)\u001b[0m\u001b[0;34m,\u001b[0m \u001b[0mw\u001b[0m\u001b[0;34m,\u001b[0m \u001b[0mh\u001b[0m\u001b[0;34m)\u001b[0m\u001b[0;34m\u001b[0m\u001b[0;34m\u001b[0m\u001b[0m\n\u001b[0m",
            "\u001b[0;32m/tmp/ipython-input-991266580.py\u001b[0m in \u001b[0;36mplot_hypergraph_components\u001b[0;34m(hypergraph, w, h)\u001b[0m\n\u001b[1;32m      1\u001b[0m \u001b[0;32mdef\u001b[0m \u001b[0mplot_hypergraph_components\u001b[0m\u001b[0;34m(\u001b[0m\u001b[0mhypergraph\u001b[0m\u001b[0;34m,\u001b[0m \u001b[0mw\u001b[0m\u001b[0;34m,\u001b[0m \u001b[0mh\u001b[0m\u001b[0;34m)\u001b[0m\u001b[0;34m:\u001b[0m\u001b[0;34m\u001b[0m\u001b[0;34m\u001b[0m\u001b[0m\n\u001b[0;32m----> 2\u001b[0;31m     \u001b[0mdecomposed_graph\u001b[0m \u001b[0;34m=\u001b[0m \u001b[0mdecompose_edges_by_len\u001b[0m\u001b[0;34m(\u001b[0m\u001b[0mhypergraph\u001b[0m\u001b[0;34m)\u001b[0m\u001b[0;34m\u001b[0m\u001b[0;34m\u001b[0m\u001b[0m\n\u001b[0m\u001b[1;32m      3\u001b[0m     \u001b[0mdecomposed_edges\u001b[0m \u001b[0;34m=\u001b[0m \u001b[0mdecomposed_graph\u001b[0m\u001b[0;34m[\u001b[0m\u001b[0;34m'edges'\u001b[0m\u001b[0;34m]\u001b[0m\u001b[0;34m\u001b[0m\u001b[0;34m\u001b[0m\u001b[0m\n\u001b[1;32m      4\u001b[0m     \u001b[0mbase_nodes\u001b[0m \u001b[0;34m=\u001b[0m \u001b[0mdecomposed_graph\u001b[0m\u001b[0;34m[\u001b[0m\u001b[0;34m'nodes'\u001b[0m\u001b[0;34m]\u001b[0m\u001b[0;34m\u001b[0m\u001b[0;34m\u001b[0m\u001b[0m\n\u001b[1;32m      5\u001b[0m     \u001b[0mn_edge_lengths\u001b[0m \u001b[0;34m=\u001b[0m \u001b[0mlen\u001b[0m\u001b[0;34m(\u001b[0m\u001b[0mdecomposed_edges\u001b[0m\u001b[0;34m)\u001b[0m\u001b[0;34m\u001b[0m\u001b[0;34m\u001b[0m\u001b[0m\n",
            "\u001b[0;31mNameError\u001b[0m: name 'decompose_edges_by_len' is not defined"
          ]
        }
      ],
      "source": [
        "w = 6\n",
        "h = 6\n",
        "build_hypergraph(w, h)\n",
        "plot_hypergraph_components(build_hypergraph(w, h), w, h)"
      ]
    }
  ],
  "metadata": {
    "kernelspec": {
      "display_name": "Python 3 (ipykernel)",
      "language": "python",
      "name": "python3"
    },
    "language_info": {
      "codemirror_mode": {
        "name": "ipython",
        "version": 3
      },
      "file_extension": ".py",
      "mimetype": "text/x-python",
      "name": "python",
      "nbconvert_exporter": "python",
      "pygments_lexer": "ipython3",
      "version": "3.11.5"
    },
    "colab": {
      "provenance": []
    }
  },
  "nbformat": 4,
  "nbformat_minor": 5
}