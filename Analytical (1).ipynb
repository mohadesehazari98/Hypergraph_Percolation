{
 "cells": [
  {
   "cell_type": "code",
   "execution_count": 1,
   "id": "591b0681-c904-4ca1-8956-57f7ae6d481d",
   "metadata": {},
   "outputs": [
    {
     "data": {
      "text/html": [
       "<div>\n",
       "<style scoped>\n",
       "    .dataframe tbody tr th:only-of-type {\n",
       "        vertical-align: middle;\n",
       "    }\n",
       "\n",
       "    .dataframe tbody tr th {\n",
       "        vertical-align: top;\n",
       "    }\n",
       "\n",
       "    .dataframe thead th {\n",
       "        text-align: right;\n",
       "    }\n",
       "</style>\n",
       "<table border=\"1\" class=\"dataframe\">\n",
       "  <thead>\n",
       "    <tr style=\"text-align: right;\">\n",
       "      <th></th>\n",
       "      <th>Critical Sigma (σ_c)</th>\n",
       "    </tr>\n",
       "  </thead>\n",
       "  <tbody>\n",
       "    <tr>\n",
       "      <th>0</th>\n",
       "      <td>1.226134</td>\n",
       "    </tr>\n",
       "  </tbody>\n",
       "</table>\n",
       "</div>"
      ],
      "text/plain": [
       "   Critical Sigma (σ_c)\n",
       "0              1.226134"
      ]
     },
     "execution_count": 1,
     "metadata": {},
     "output_type": "execute_result"
    }
   ],
   "source": [
    "# Re-import required packages after reset\n",
    "import math\n",
    "from scipy.optimize import brentq\n",
    "import pandas as pd\n",
    "\n",
    "def det_J_sigma(sigma: float) -> float:\n",
    "    \"\"\"\n",
    "    Computes the determinant of the linearized Jacobian matrix J(sigma)\n",
    "    for the message-passing equations at a given sigma.\n",
    "    \"\"\"\n",
    "    e2 = math.exp(-2 / sigma)\n",
    "    e3 = math.exp(-3 / sigma)\n",
    "    e4 = math.exp(-4 / sigma)\n",
    "\n",
    "    # Jacobian matrix elements\n",
    "    J = [\n",
    "        [1 - 3 * e2,     -3 * e3,       -1.5 * e4],\n",
    "        [-4 * e2,        1 - 4 * e3,    -1.5 * e4],\n",
    "        [-4 * e2,        -3 * e3,       1 - 3 * e4]\n",
    "    ]\n",
    "\n",
    "    # Compute determinant manually\n",
    "    a, b, c = J[0]\n",
    "    d, e, f = J[1]\n",
    "    g, h, i = J[2]\n",
    "\n",
    "    det = (\n",
    "        a * (e * i - f * h)\n",
    "        - b * (d * i - f * g)\n",
    "        + c * (d * h - e * g)\n",
    "    )\n",
    "    return det\n",
    "\n",
    "# Find critical sigma where det(J(sigma)) = 0\n",
    "sigma_critical = brentq(det_J_sigma, 1.0, 5.0)\n",
    "\n",
    "# Show result\n",
    "pd.DataFrame([{\"Critical Sigma (σ_c)\": sigma_critical}])"
   ]
  },
  {
   "cell_type": "code",
   "execution_count": null,
   "id": "f337e695-445f-4a99-966a-8b432290e90f",
   "metadata": {},
   "outputs": [],
   "source": []
  }
 ],
 "metadata": {
  "kernelspec": {
   "display_name": "Python 3 (ipykernel)",
   "language": "python",
   "name": "python3"
  },
  "language_info": {
   "codemirror_mode": {
    "name": "ipython",
    "version": 3
   },
   "file_extension": ".py",
   "mimetype": "text/x-python",
   "name": "python",
   "nbconvert_exporter": "python",
   "pygments_lexer": "ipython3",
   "version": "3.11.5"
  }
 },
 "nbformat": 4,
 "nbformat_minor": 5
}
