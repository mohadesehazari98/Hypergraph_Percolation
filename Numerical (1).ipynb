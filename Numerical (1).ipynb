{
 "cells": [
  {
   "cell_type": "markdown",
   "id": "8552d580-bf3b-4d14-81b3-0d0e16211f99",
   "metadata": {},
   "source": [
    "# Graph Initialization"
   ]
  },
  {
   "cell_type": "code",
   "execution_count": 1,
   "id": "59c88b5d-89cc-4b4b-8eb3-44f8a44d6fcb",
   "metadata": {
    "tags": []
   },
   "outputs": [],
   "source": [
    "import pandas as pd\n",
    "import math\n",
    "import random\n",
    "\n",
    "from collections import defaultdict, deque\n",
    "from typing import Dict, Set, Tuple, List"
   ]
  },
  {
   "cell_type": "code",
   "execution_count": 2,
   "id": "1c0ea0a2-6e33-431f-8e60-3f449a05266b",
   "metadata": {},
   "outputs": [],
   "source": [
    "def initialize_multiplex_hypergraph(w: int, h: int):\n",
    "    nodes = {1: set(), 2: set(), 3: set()}\n",
    "    for i in range(w):\n",
    "        for j in range(h):\n",
    "            nodes[1].add((i, j))\n",
    "            if (i + j) % 2 == 1:\n",
    "                nodes[2].add((i, j))\n",
    "            if (i + j) % 2 == 0:\n",
    "                nodes[3].add((i, j))\n",
    "\n",
    "    hyperedges = {1: [], 2: [], 3: []}\n",
    "    for i, j in nodes[1]:\n",
    "        if (i + 1, j) in nodes[1]:\n",
    "            hyperedges[1].append(((i, j), (i + 1, j)))\n",
    "        if (i, j + 1) in nodes[1]:\n",
    "            hyperedges[1].append(((i, j), (i, j + 1)))\n",
    "\n",
    "    for i, j in nodes[2]:\n",
    "        candidates = [(i + 1, j + 1), (i + 2, j)]\n",
    "        if all(pt in nodes[2] for pt in candidates):\n",
    "            hyperedges[2].append(((i, j), (i + 1, j + 1), (i + 2, j)))\n",
    "\n",
    "    for i, j in nodes[3]:\n",
    "        if i % 2 == 0 and j % 2 == 0:\n",
    "            candidates = [(i + 1, j - 1), (i + 1, j + 1), (i + 2, j)]\n",
    "            if all(pt in nodes[3] for pt in candidates):\n",
    "                hyperedges[3].append(((i, j), (i + 1, j - 1), (i + 1, j + 1), (i + 2, j)))\n",
    "\n",
    "    return nodes, hyperedges"
   ]
  },
  {
   "cell_type": "code",
   "execution_count": 3,
   "id": "f7a44a97-e24e-4043-9397-09d9aecc56b6",
   "metadata": {
    "tags": []
   },
   "outputs": [
    {
     "name": "stdout",
     "output_type": "stream",
     "text": [
      "          Layer  Activated Hyperedges\n",
      "0  1 (degree-2)                    60\n",
      "1  2 (degree-3)                    10\n",
      "2  3 (degree-4)                     4\n"
     ]
    }
   ],
   "source": [
    "# Example usage\n",
    "nodes, hyperedges = initialize_multiplex_hypergraph(6, 6)\n",
    "\n",
    "# Summary print\n",
    "summary = pd.DataFrame({\n",
    "    \"Layer\": [\"1 (degree-2)\", \"2 (degree-3)\", \"3 (degree-4)\"],\n",
    "    \"Activated Hyperedges\": [len(hyperedges[1]), len(hyperedges[2]), len(hyperedges[3])]\n",
    "})\n",
    "print(summary)"
   ]
  },
  {
   "cell_type": "markdown",
   "id": "7a9ced4f-e583-4f52-92d0-8c18b4736a9d",
   "metadata": {},
   "source": [
    "# Percolation Process "
   ]
  },
  {
   "cell_type": "code",
   "execution_count": 4,
   "id": "425a6948-aeb6-42d4-9dac-fe5ab216c888",
   "metadata": {},
   "outputs": [],
   "source": [
    "# Define percolation function\n",
    "def apply_percolation(\n",
    "    hyperedges: Dict[int, List[Tuple[Tuple[int, int], ...]]],\n",
    "    sigma: float\n",
    ") -> Dict[int, List[Tuple[Tuple[int, int], ...]]]:\n",
    "    survived = {}\n",
    "    for layer, hedges in hyperedges.items():\n",
    "        m = len(hedges[0]) if hedges else layer  # infer degree from sample\n",
    "        p_m = math.exp(-m / sigma)\n",
    "        survived[layer] = [h for h in hedges if random.random() < p_m]\n",
    "    return survived"
   ]
  },
  {
   "cell_type": "markdown",
   "id": "5c651f62-8149-49ad-b2e8-a1a1a351abe5",
   "metadata": {},
   "source": [
    "# Measure of Connectivity"
   ]
  },
  {
   "cell_type": "code",
   "execution_count": 5,
   "id": "00fa76ff-686d-4fb0-a714-8a353d854d1f",
   "metadata": {
    "tags": []
   },
   "outputs": [],
   "source": [
    "def compute_EGR(\n",
    "    nodes: Dict[int, Set[Tuple[int, int]]],\n",
    "    hyperedges: Dict[int, List[Tuple[Tuple[int, int], ...]]],\n",
    "    source: Tuple[int, int],\n",
    "    target: Tuple[int, int]\n",
    ") -> int:\n",
    "    all_hyperedges = []\n",
    "    for layer in hyperedges:\n",
    "        all_hyperedges.extend(hyperedges[layer])\n",
    "\n",
    "    node_to_hyperedges = defaultdict(set)\n",
    "    for idx, hedge in enumerate(all_hyperedges):\n",
    "        for node in hedge:\n",
    "            node_to_hyperedges[node].add(idx)\n",
    "\n",
    "    used_hyperedges = set()\n",
    "    EGR = 0\n",
    "\n",
    "    def dfs(current, target, visited_nodes, used_hyperedges_local):\n",
    "        if current == target:\n",
    "            return []\n",
    "        for hedge_idx in node_to_hyperedges[current]:\n",
    "            if hedge_idx in used_hyperedges_local:\n",
    "                continue\n",
    "            hedge = all_hyperedges[hedge_idx]\n",
    "            for next_node in hedge:\n",
    "                if next_node == current or next_node in visited_nodes:\n",
    "                    continue\n",
    "                path = dfs(next_node, target, visited_nodes | {next_node}, used_hyperedges_local | {hedge_idx})\n",
    "                if path is not None:\n",
    "                    return [hedge_idx] + path\n",
    "        return None\n",
    "\n",
    "    while True:\n",
    "        path = dfs(source, target, {source}, used_hyperedges)\n",
    "        if path is None:\n",
    "            break\n",
    "        used_hyperedges.update(path)\n",
    "        EGR += 1\n",
    "\n",
    "    return EGR\n",
    "\n",
    "def compute_R(\n",
    "    nodes: Dict[int, Set[Tuple[int, int]]],\n",
    "    hyperedges: Dict[int, List[Tuple[Tuple[int, int], ...]]]\n",
    ") -> float:\n",
    "    all_hyperedges = []\n",
    "    for layer in hyperedges:\n",
    "        all_hyperedges.extend(hyperedges[layer])\n",
    "\n",
    "    adjacency = defaultdict(set)\n",
    "    for hedge in all_hyperedges:\n",
    "        for u in hedge:\n",
    "            for v in hedge:\n",
    "                if u != v:\n",
    "                    adjacency[u].add(v)\n",
    "\n",
    "    visited = set()\n",
    "    max_component_size = 0\n",
    "\n",
    "    for node in set().union(*nodes.values()):\n",
    "        if node in visited:\n",
    "            continue\n",
    "        queue = deque([node])\n",
    "        component = set()\n",
    "        while queue:\n",
    "            curr = queue.popleft()\n",
    "            if curr in visited:\n",
    "                continue\n",
    "            visited.add(curr)\n",
    "            component.add(curr)\n",
    "            queue.extend(adjacency[curr] - visited)\n",
    "        max_component_size = max(max_component_size, len(component))\n",
    "\n",
    "    total_nodes = len(set().union(*nodes.values()))\n",
    "    R = max_component_size / total_nodes if total_nodes > 0 else 0.0\n",
    "\n",
    "    return R"
   ]
  },
  {
   "cell_type": "markdown",
   "id": "780ca3e2-05d2-4971-8852-38d6f251b8f3",
   "metadata": {},
   "source": [
    "# Run Trial"
   ]
  },
  {
   "cell_type": "code",
   "execution_count": 6,
   "id": "2d177943-3bde-40cf-a3b7-7571a2750593",
   "metadata": {
    "tags": []
   },
   "outputs": [],
   "source": [
    "def run_percolation_trials(\n",
    "    w: int,\n",
    "    h: int,\n",
    "    sigma: float,\n",
    "    N: int = 100\n",
    ") -> Tuple[float, float]:\n",
    "    \"\"\"\n",
    "    Run N percolation trials and return the average EGR and R.\n",
    "    \n",
    "    Args:\n",
    "        w, h: Grid size\n",
    "        sigma: Percolation softness parameter\n",
    "        N: Number of trials\n",
    "    \n",
    "    Returns:\n",
    "        (avg_EGR, avg_R): Averages over trials\n",
    "    \"\"\"\n",
    "    nodes, hyperedges = initialize_multiplex_hypergraph(w, h)\n",
    "    EGR_list = []\n",
    "    R_list = []\n",
    "\n",
    "    for _ in range(N):\n",
    "        percolated_hyperedges = apply_percolation(hyperedges, sigma)\n",
    "        EGR = compute_EGR(nodes, percolated_hyperedges, (0, 0), (w - 1, h - 1))\n",
    "        R = compute_R(nodes, percolated_hyperedges)\n",
    "        EGR_list.append(EGR)\n",
    "        R_list.append(R)\n",
    "\n",
    "    avg_EGR = sum(EGR_list) / N\n",
    "    avg_R = sum(R_list) / N\n",
    "    return avg_EGR, avg_R"
   ]
  },
  {
   "cell_type": "code",
   "execution_count": 7,
   "id": "70709247-7b9b-4140-a320-d2c41723ed5c",
   "metadata": {
    "tags": []
   },
   "outputs": [
    {
     "data": {
      "text/html": [
       "<div>\n",
       "<style scoped>\n",
       "    .dataframe tbody tr th:only-of-type {\n",
       "        vertical-align: middle;\n",
       "    }\n",
       "\n",
       "    .dataframe tbody tr th {\n",
       "        vertical-align: top;\n",
       "    }\n",
       "\n",
       "    .dataframe thead th {\n",
       "        text-align: right;\n",
       "    }\n",
       "</style>\n",
       "<table border=\"1\" class=\"dataframe\">\n",
       "  <thead>\n",
       "    <tr style=\"text-align: right;\">\n",
       "      <th></th>\n",
       "      <th>Grid Size</th>\n",
       "      <th>Sigma</th>\n",
       "      <th>Trials</th>\n",
       "      <th>Average EGR</th>\n",
       "      <th>Average R</th>\n",
       "    </tr>\n",
       "  </thead>\n",
       "  <tbody>\n",
       "    <tr>\n",
       "      <th>0</th>\n",
       "      <td>6x6</td>\n",
       "      <td>2.0</td>\n",
       "      <td>100</td>\n",
       "      <td>0.08</td>\n",
       "      <td>0.509722</td>\n",
       "    </tr>\n",
       "  </tbody>\n",
       "</table>\n",
       "</div>"
      ],
      "text/plain": [
       "  Grid Size  Sigma  Trials  Average EGR  Average R\n",
       "0       6x6    2.0     100         0.08   0.509722"
      ]
     },
     "execution_count": 7,
     "metadata": {},
     "output_type": "execute_result"
    }
   ],
   "source": [
    "# Example: Run N trials for sigma\n",
    "w, h = 6, 6\n",
    "sigma_val = 2.0\n",
    "N_trials = 100\n",
    "avg_EGR, avg_R = run_percolation_trials(w, h, sigma_val, N_trials)\n",
    "\n",
    "pd.DataFrame([{\n",
    "    \"Grid Size\": f\"{w}x{h}\",\n",
    "    \"Sigma\": sigma_val,\n",
    "    \"Trials\": N_trials,\n",
    "    \"Average EGR\": avg_EGR,\n",
    "    \"Average R\": avg_R\n",
    "}])"
   ]
  },
  {
   "cell_type": "markdown",
   "id": "57b0be52-a004-43a7-bdcf-95c39e414f08",
   "metadata": {},
   "source": [
    "# Plot"
   ]
  },
  {
   "cell_type": "code",
   "execution_count": 11,
   "id": "b624e8ed-e260-4894-ab33-c8d47ab15d0f",
   "metadata": {
    "tags": []
   },
   "outputs": [
    {
     "name": "stderr",
     "output_type": "stream",
     "text": [
      "Sweeping over sigma values: 100%|██████████| 20/20 [00:07<00:00,  2.69it/s]\n"
     ]
    },
    {
     "data": {
      "image/png": "[encoded data removed]",
      "text/plain": [
       "<Figure size 800x500 with 1 Axes>"
      ]
     },
     "metadata": {},
     "output_type": "display_data"
    }
   ],
   "source": [
    "import numpy as np\n",
    "import pandas as pd\n",
    "import matplotlib.pyplot as plt\n",
    "\n",
    "from tqdm import tqdm\n",
    "\n",
    "def sweep_R_vs_sigma_with_progress(\n",
    "    w: int,\n",
    "    h: int,\n",
    "    sigma_values: List[float],\n",
    "    N: int = 100\n",
    ") -> pd.DataFrame:\n",
    "\n",
    "    nodes, hyperedges = initialize_multiplex_hypergraph(w, h)\n",
    "    results = []\n",
    "\n",
    "    for sigma in tqdm(sigma_values, desc=\"Sweeping over sigma values\"):\n",
    "        R_list = []\n",
    "        for _ in range(N):\n",
    "            percolated_hyperedges = apply_percolation(hyperedges, sigma)\n",
    "            R = compute_R(nodes, percolated_hyperedges)\n",
    "            R_list.append(R)\n",
    "        avg_R = np.mean(R_list)\n",
    "        std_R = np.std(R_list)\n",
    "        results.append({\n",
    "            \"Sigma\": sigma,\n",
    "            \"Average_R\": avg_R,\n",
    "            \"Std_R\": std_R\n",
    "        })\n",
    "\n",
    "    return pd.DataFrame(results)\n",
    "\n",
    "def plot_R_vs_sigma(df: pd.DataFrame):\n",
    "    plt.figure(figsize=(8, 5))\n",
    "    plt.errorbar(df[\"Sigma\"], df[\"Average_R\"], yerr=df[\"Std_R\"], fmt='o-', capsize=5)\n",
    "    plt.xlabel(r\"$\\sigma$\", fontsize=14)\n",
    "    plt.ylabel(r\"$\\langle R(\\sigma) \\rangle$\", fontsize=14)\n",
    "    plt.title(\"Giant Component Ratio vs. Sigma\", fontsize=15)\n",
    "    plt.grid(True)\n",
    "    plt.tight_layout()\n",
    "    plt.show()\n",
    "\n",
    "# Example usage:\n",
    "sigma_values = np.linspace(0.5, 5.0, 20)  # test\n",
    "\n",
    "# Rerun the sweep with tqdm-enabled version\n",
    "R_vs_sigma_df = sweep_R_vs_sigma_with_progress(w=20, h=20, sigma_values=sigma_values.tolist(), N=1000)\n",
    "plot_R_vs_sigma(R_vs_sigma_df)"
   ]
  },
  {
   "cell_type": "code",
   "execution_count": null,
   "id": "1b4ee631-8128-4459-b2b3-42708b1d9c92",
   "metadata": {},
   "outputs": [],
   "source": []
  }
 ],
 "metadata": {
  "kernelspec": {
   "display_name": "Python 3 (ipykernel)",
   "language": "python",
   "name": "python3"
  },
  "language_info": {
   "codemirror_mode": {
    "name": "ipython",
    "version": 3
   },
   "file_extension": ".py",
   "mimetype": "text/x-python",
   "name": "python",
   "nbconvert_exporter": "python",
   "pygments_lexer": "ipython3",
   "version": "3.11.5"
  }
 },
 "nbformat": 4,
 "nbformat_minor": 5
}
