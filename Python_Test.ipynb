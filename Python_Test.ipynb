{
 "cells": [
  {
   "cell_type": "code",
   "execution_count": 1,
   "id": "686ccf6c-3211-4e86-90c2-bb51cbee76fe",
   "metadata": {
    "tags": []
   },
   "outputs": [],
   "source": [
    "import random\n",
    "import numpy as np\n",
    "import networkx as nx\n",
    "import matplotlib.pyplot as plt"
   ]
  },
  {
   "cell_type": "code",
   "execution_count": 2,
   "id": "ed6c0e97-7097-495d-834a-710363d40627",
   "metadata": {
    "tags": []
   },
   "outputs": [],
   "source": [
    "from math import floor\n",
    "from itertools import combinations\n",
    "from collections import defaultdict\n",
    "from networkx import NetworkXException\n",
    "from networkx.algorithms.approximation import steiner_tree"
   ]
  },
  {
   "cell_type": "markdown",
   "id": "a1080465-e4c4-4a02-a3e2-c6638128ca75",
   "metadata": {},
   "source": [
    "<div class=\"alert alert-block alert-info\">\n",
    "<b>🌌Graph:</b> fidelity-aware distribution of a 3-qubit GHZ state\n",
    "using site-bond percolation to model the underlying quantum network.\n",
    "</div>"
   ]
  },
  {
   "cell_type": "markdown",
   "id": "184ddb2c-25b1-4592-abf8-42292554aa45",
   "metadata": {},
   "source": [
    "_Initialize the Graph_"
   ]
  },
  {
   "cell_type": "code",
   "execution_count": 3,
   "id": "aa72a9af-3b13-48b5-93f7-367315bab7c0",
   "metadata": {
    "tags": []
   },
   "outputs": [],
   "source": [
    "def build_initial_grid(w, h):\n",
    "    G = nx.Graph()\n",
    "    for i in range(w):\n",
    "        for j in range(h):\n",
    "            G.add_node((i, j))\n",
    "            parity = (i + j) % 2\n",
    "            for dx in [-1, 1]:\n",
    "                ni = i + dx\n",
    "                if 0 <= ni < w:\n",
    "                    G.add_edge((i, j), (ni, j))\n",
    "            if parity == 0 and j + 1 < h:\n",
    "                G.add_edge((i, j), (i, j + 1))\n",
    "            elif parity == 1 and j - 1 >= 0:\n",
    "                G.add_edge((i, j), (i, j - 1))\n",
    "    return G"
   ]
  },
  {
   "cell_type": "markdown",
   "id": "4a834c92-5239-4beb-a32f-557b49b2e6d9",
   "metadata": {},
   "source": [
    "_site-bond percolation_"
   ]
  },
  {
   "cell_type": "code",
   "execution_count": 4,
   "id": "fe3d06eb-88b0-4355-91b5-dd3abd61220c",
   "metadata": {},
   "outputs": [],
   "source": [
    "def percolate_graph(G, w, h, p, q, p_f, terminals):\n",
    "    Gp = G.copy()\n",
    "    # Bond \n",
    "    for edge in list(Gp.edges):\n",
    "        if random.random() > p:\n",
    "            Gp.remove_edge(*edge)\n",
    "        else:\n",
    "            if random.random() < p_f:\n",
    "                Gp.edges[edge]['fidelity'] = 1.0\n",
    "            else:\n",
    "                Gp.edges[edge]['fidelity'] = random.uniform(0.9, 1.0)\n",
    "    # Site \n",
    "    for component in nx.connected_components(Gp):\n",
    "        if terminals <= component:\n",
    "            surviving_nodes = set()\n",
    "            for node in component:\n",
    "                if node in terminals or random.random() <= q:\n",
    "                    surviving_nodes.add(node)\n",
    "            return Gp.subgraph(surviving_nodes).copy()\n",
    "    return None\n",
    "# ---------------------------------------------------------------------------------------------------------\n",
    "# calculate the tree\n",
    "def compute_steiner_tree(G, terminals, weight='fidelity'):\n",
    "    comp = nx.node_connected_component(G, next(iter(terminals)))\n",
    "    if terminals <= comp:\n",
    "        return steiner_tree(G.subgraph(comp).copy(), terminals, weight=weight, method=\"kou\")\n",
    "    return None"
   ]
  },
  {
   "cell_type": "markdown",
   "id": "1829fc11-7bd0-4e5b-bcbf-08ee5f1f1a32",
   "metadata": {},
   "source": [
    "_fidelity of the chain_"
   ]
  },
  {
   "cell_type": "code",
   "execution_count": 5,
   "id": "51e1775c-b048-46ce-a2f7-a6b603abdefb",
   "metadata": {
    "tags": []
   },
   "outputs": [],
   "source": [
    "def compute_fidelity_along_path(G, path):\n",
    "    fidelity = G[path[0]][path[1]].get(\"fidelity\", 1.0)\n",
    "    for i in range(1, len(path) - 1):\n",
    "        f_next = G[path[i]][path[i + 1]].get(\"fidelity\", 1.0)\n",
    "        fidelity = fidelity * f_next + ((1 - fidelity) * (1 - f_next)) / 3\n",
    "    return fidelity\n",
    "def analyze_steiner_tree_fidelity(Gp, T, terminals):\n",
    "    candidates = [n for n in T if T.degree[n] == max(dict(T.degree()).values())]\n",
    "    center = next((n for n in candidates if n in terminals), candidates[0])\n",
    "    #print(f\"Center node: {center}\")\n",
    "    fidelity_dict = {}\n",
    "    for terminal in terminals:\n",
    "        if terminal != center:\n",
    "            path = nx.shortest_path(T, center, terminal)\n",
    "            fidelity = compute_fidelity_along_path(Gp, path)\n",
    "            fidelity_dict[terminal] = fidelity\n",
    "        else:\n",
    "            fidelity_dict[center] = 1.0\n",
    "    return fidelity_dict\n",
    "# ---------------------------------------------------------------------------------------------------------\n",
    "# final fidelity\n",
    "def compute_final_fidelity(F1, F2, F3):\n",
    "    eps1 = (1 - F1) / 3\n",
    "    eps2 = (1 - F2) / 3\n",
    "    eps3 = (1 - F3) / 3\n",
    "    e1 = eps1 + eps2 + eps3\n",
    "    e2 = eps1 * eps2 + eps1 * eps3 + eps2 * eps3\n",
    "    e3 = eps1 * eps2 * eps3\n",
    "    F4 = 1 - 3 * e1 + 10 * e2 - 32 * e3\n",
    "    return F4"
   ]
  },
  {
   "cell_type": "markdown",
   "id": "0cdebf4f-283d-4056-bca6-36d567dd3fe0",
   "metadata": {},
   "source": [
    "📉_Visualize_"
   ]
  },
  {
   "cell_type": "code",
   "execution_count": 6,
   "id": "c75f1802-aaaf-4d98-919e-06410b05501a",
   "metadata": {
    "tags": []
   },
   "outputs": [],
   "source": [
    "def visualize_parity_grid_with_abc(G, w, h, T=None, scale=0.8):\n",
    "    pos = { (i, j): (scale * i, -scale * j) for (i, j) in G.nodes }\n",
    "\n",
    "    A = (1, 1)\n",
    "    B = (w - 2, h - 2)\n",
    "    C = (w - 2, 1)\n",
    "\n",
    "    terminals = {A, B, C}\n",
    "    special_nodes = [n for n in terminals if n in G]\n",
    "    regular_nodes = [n for n in G.nodes if n not in special_nodes]\n",
    "\n",
    "    fig, ax = plt.subplots(figsize=(5, 5), constrained_layout=True)\n",
    "\n",
    "    # Draw regular nodes\n",
    "    nx.draw_networkx_nodes(G, pos, nodelist=regular_nodes, node_color='#4F8FC0', node_size=100, ax=ax)\n",
    "\n",
    "    # Draw special nodes with different colors\n",
    "    if A in G:\n",
    "        nx.draw_networkx_nodes(G, pos, nodelist=[A], node_color='#62A87C', node_size=200, ax=ax)\n",
    "    if B in G:\n",
    "        nx.draw_networkx_nodes(G, pos, nodelist=[B], node_color='#7EE081', node_size=200, ax=ax)\n",
    "    if C in G:\n",
    "        nx.draw_networkx_nodes(G, pos, nodelist=[C], node_color='#C3F3C0', node_size=200, ax=ax)\n",
    "\n",
    "    # Draw base graph edges\n",
    "    nx.draw_networkx_edges(G, pos, edge_color='gray', width=1.0, ax=ax)\n",
    "\n",
    "    # Draw Steiner tree if provided\n",
    "    if T is not None and len(T.edges) > 0:\n",
    "        nx.draw_networkx_edges(T, pos, edge_color='black', width=2.5, ax=ax)\n",
    "\n",
    "    # Add labels for A, B, C if present\n",
    "    labels = {n: lbl for n, lbl in zip([A, B, C], ['A', 'B', 'C']) if n in G}\n",
    "    nx.draw_networkx_labels(G, pos, labels=labels, font_size=10, font_color='black', ax=ax)\n",
    "\n",
    "    ax.set_title(\"Parity Grid with A, B, C + Steiner Tree\")\n",
    "    ax.axis('off')\n",
    "    plt.show()"
   ]
  },
  {
   "cell_type": "code",
   "execution_count": 9,
   "id": "35cbd247-d452-46a8-b9c6-49f5f786fb17",
   "metadata": {
    "tags": []
   },
   "outputs": [
    {
     "data": {
      "image/png": "[encoded data removed]",
      "text/plain": [
       "<Figure size 500x500 with 1 Axes>"
      ]
     },
     "metadata": {},
     "output_type": "display_data"
    },
    {
     "name": "stdout",
     "output_type": "stream",
     "text": [
      "fidelity dictionary: {(4, 4): 0.9318858929451477, (1, 1): 1.0, (4, 1): 1.0}\n",
      "Final GHZ fidelity is: 0.9318858929451477\n"
     ]
    }
   ],
   "source": [
    "p = 0.90\n",
    "q = 0.95\n",
    "p_f = 0.80\n",
    "w = 6\n",
    "h = 6\n",
    "A = (1, 1)\n",
    "B = (w - 2, h - 2)\n",
    "C = (w - 2, 1)\n",
    "terminals = {A, B, C}\n",
    "# ---------------------------------------------------------------------------------------------------------\n",
    "G = build_initial_grid(w, h)\n",
    "Gp = percolate_graph(G, w, h, p, q, p_f, terminals)\n",
    "T = compute_steiner_tree(Gp, terminals)\n",
    "visualize_parity_grid_with_abc(Gp, w, h, T=T)\n",
    "if T != None:\n",
    "    fidelity_dict = analyze_steiner_tree_fidelity(Gp, T, terminals)\n",
    "    F_vals = [fidelity_dict[t] for t in terminals]\n",
    "    fidelity_ghz = compute_final_fidelity(*F_vals)\n",
    "    print(f\"fidelity dictionary: {fidelity_dict}\")\n",
    "    print(f\"Final GHZ fidelity is: {fidelity_ghz}\")\n",
    "else:\n",
    "    print(\"❌ No valid Steiner tree exists.\")"
   ]
  },
  {
   "cell_type": "markdown",
   "id": "144852dd-5259-42e5-8e00-bc8f78ab676a",
   "metadata": {},
   "source": [
    "<div class=\"alert alert-block alert-info\">\n",
    "<b>📡Hypergraph:</b> fidelity-aware distribution of a 3-qubit GHZ state\n",
    "using site-bond percolation to model the underlying quantum network.\n",
    "</div>"
   ]
  },
  {
   "cell_type": "markdown",
   "id": "471a3db5-5c26-45ca-9504-84337f8031cc",
   "metadata": {},
   "source": [
    "_Initialize the Hypergraph_"
   ]
  },
  {
   "cell_type": "code",
   "execution_count": 10,
   "id": "d07fabad-413d-4362-aee4-8a18fca967ce",
   "metadata": {
    "tags": []
   },
   "outputs": [],
   "source": [
    "def build_hypergraph(w, h):\n",
    "    G1 = build_initial_grid(w, h)\n",
    "# ---------------------------------------------------------------------------------------------------------\n",
    "    # potential bug: unwanted nodes are added at parity check \n",
    "    G2 = nx.Graph()\n",
    "    for i in range(w):\n",
    "        for j in range(h):\n",
    "            parity = (i + j) % 2\n",
    "            if parity == 1: # parity 1 are the base nodes \n",
    "                G2.add_node((i, j))\n",
    "                if j + 1 < h and i + 2 < w:\n",
    "                    G2.add_edge((i + 1, j), (i, j))\n",
    "                    G2.add_edge((i + 1, j), (i + 1, j + 1))\n",
    "                    G2.add_edge((i + 1, j), (i + 2, j))\n",
    "    hyperg = [G1, G2]\n",
    "    return hyperg"
   ]
  },
  {
   "cell_type": "markdown",
   "id": "78c2a239-bd60-470a-abc9-263582b04a23",
   "metadata": {},
   "source": [
    "_Multiplex hypergraph Percolation_"
   ]
  },
  {
   "cell_type": "code",
   "execution_count": 11,
   "id": "185741a6-5177-41a7-b77b-492054d7c182",
   "metadata": {
    "tags": []
   },
   "outputs": [],
   "source": [
    "def percolate_graph(hyperg, w, h, p, q, p_f, terminals):\n",
    "    G1 = hyperg[0].copy()\n",
    "    G2 = hyperg[1].copy()\n",
    "    # ---------------------------------------------------------------------------------------------------------\n",
    "    # Bond \n",
    "    for edge in list(G1.edges):\n",
    "        if random.random() > p:\n",
    "            G1.remove_edge(*edge)\n",
    "        else:\n",
    "            if random.random() < p_f:\n",
    "                G1.edges[edge]['fidelity'] = 1.0\n",
    "            else:\n",
    "                G1.edges[edge]['fidelity'] = random.uniform(0.9, 1.0)\n",
    "    # ---------------------------------------------------------------------------------------------------------\n",
    "    # Hyperedge \n",
    "    factor_nodes = set()\n",
    "    for node in list(G2.nodes):\n",
    "            i, j = node\n",
    "            if (i + j) % 2 == 0: # parity zero are hyperedges \n",
    "                factor_nodes.add(node) # list of factor nodes \n",
    "                if random.random() > p:\n",
    "                    G2.remove_node(node)\n",
    "                else:\n",
    "                    if random.random() < p_f:\n",
    "                        G2.nodes[node]['fidelity'] = 1.0\n",
    "                    else:\n",
    "                        G2.nodes[node]['fidelity'] = random.uniform(0.9, 1.0)\n",
    "    # ---------------------------------------------------------------------------------------------------------\n",
    "    # Site \n",
    "    for component in nx.connected_components(G1):\n",
    "        if terminals <= component:\n",
    "            survived1 = set()\n",
    "            for node in component:\n",
    "                if node in terminals or random.random() <= q:\n",
    "                    survived1.add(node) \n",
    "                \n",
    "            survived2 = set(G2.nodes) & (survived1 | factor_nodes)\n",
    "            result = [G1.subgraph(survived1).copy(), G2.subgraph(survived2).copy(), factor_nodes]\n",
    "            return result\n",
    "    return None\n",
    "# ---------------------------------------------------------------------------------------------------------\n"
   ]
  },
  {
   "cell_type": "code",
   "execution_count": 18,
   "id": "fa3edf1d-f933-4550-ad62-f04a29f5627d",
   "metadata": {
    "tags": []
   },
   "outputs": [
    {
     "data": {
      "image/png": "[encoded data removed]",
      "text/plain": [
       "<Figure size 500x500 with 1 Axes>"
      ]
     },
     "metadata": {},
     "output_type": "display_data"
    }
   ],
   "source": [
    "p = 0.80\n",
    "q = 0.90\n",
    "p_f = 0.80\n",
    "w = 5\n",
    "h = 5\n",
    "A = (1, 1)\n",
    "B = (w - 2, h - 2)\n",
    "C = (w - 2, 1)\n",
    "terminals = {A, B, C}\n",
    "# ---------------------------------------------------------------------------------------------------------\n",
    "hyperg = build_hypergraph(w, h)\n",
    "per_hyperg = percolate_graph(hyperg, w, h, p, q, p_f, terminals)\n",
    "# ---------------------------------------------------------------------------------------------------------\n",
    "if per_hyperg != None:\n",
    "    visualize_parity_grid_with_abc(per_hyperg[0], w, h)\n",
    "else:\n",
    "    print(\"❌ Does not include terminals.\")"
   ]
  },
  {
   "cell_type": "code",
   "execution_count": 19,
   "id": "1018e656-013d-4c3e-b028-4d88d7642edf",
   "metadata": {
    "tags": []
   },
   "outputs": [
    {
     "data": {
      "image/png": "[encoded data removed]",
      "text/plain": [
       "<Figure size 500x500 with 1 Axes>"
      ]
     },
     "metadata": {},
     "output_type": "display_data"
    }
   ],
   "source": [
    "visualize_parity_grid_with_abc(per_hyperg[1], w, h)"
   ]
  },
  {
   "cell_type": "code",
   "execution_count": 23,
   "id": "0227a116-f825-492f-94e8-64ef4daebd16",
   "metadata": {
    "tags": []
   },
   "outputs": [],
   "source": [
    "def plot_hypergraph_components(hypergraph, w, h):\n",
    "    decomposed_graph = decompose_edges_by_len(hypergraph)\n",
    "    decomposed_edges = decomposed_graph['edges']\n",
    "    base_nodes = decomposed_graph['nodes']\n",
    "    n_edge_lengths = len(decomposed_edges)\n",
    "\n",
    "    fig, axs = plt.subplots(1, n_edge_lengths, figsize=(5 * n_edge_lengths, 5))\n",
    "    axs = np.atleast_1d(axs)\n",
    "    for ax in axs:\n",
    "        ax.axis('off')\n",
    "    fig.patch.set_facecolor('#003049')\n",
    "\n",
    "    for i, edge_order in enumerate(sorted(decomposed_edges)):\n",
    "        edges = decomposed_edges[edge_order]\n",
    "        g = nx.DiGraph()\n",
    "        factor_nodes = []\n",
    "\n",
    "        g.add_nodes_from(base_nodes)\n",
    "\n",
    "        if edge_order == 2:\n",
    "            g.add_edges_from(edges)\n",
    "        else:\n",
    "            for edge in edges:\n",
    "                factor_node = (floor(sum(i for (i, j) in edge) / edge_order),\n",
    "                                  floor(sum(j for (i, j) in edge) / edge_order))\n",
    "                factor_nodes.append(factor_node)\n",
    "                g.add_node(factor_node)\n",
    "                for node in edge:\n",
    "                    g.add_edge(node, factor_node)\n",
    "\n",
    "        def grid_layout(w, h):\n",
    "            return {(i, j): (i, -j) for i in range(w) for j in range(h)}\n",
    "        \n",
    "        pos = grid_layout(w, h)\n",
    "        nx.draw_networkx_nodes(g, pos, nodelist=base_nodes, node_size=150,\n",
    "                               ax=axs[i], node_color='#f77f00', label='True Nodes')\n",
    "        nx.draw_networkx_nodes(g, pos, nodelist=factor_nodes, node_size=300,\n",
    "                               ax=axs[i], node_color='#d62828', label='Factor Nodes')\n",
    "        nx.draw_networkx_edges(g, pos, ax=axs[i], edge_color='#eae2b7',\n",
    "                               connectionstyle='arc3,rad=0.05', arrowstyle='-')\n",
    "        # labels = {node: str(node) for node in base_nodes}\n",
    "        # nx.draw_networkx_labels(g, pos, labels, ax=axs[i])\n",
    "    plt.tight_layout()\n",
    "    plt.show()"
   ]
  },
  {
   "cell_type": "code",
   "execution_count": 25,
   "id": "11adac92-84aa-457e-b41a-436b49355afc",
   "metadata": {
    "tags": []
   },
   "outputs": [
    {
     "data": {
      "image/png": "[encoded data removed]",
      "text/plain": [
       "<Figure size 1000x500 with 2 Axes>"
      ]
     },
     "metadata": {},
     "output_type": "display_data"
    }
   ],
   "source": [
    "w = 6\n",
    "h = 6\n",
    "build_hypergraph(w, h)\n",
    "plot_hypergraph_components(build_hypergraph(w, h), w, h)"
   ]
  },
  {
   "cell_type": "code",
   "execution_count": null,
   "id": "8f976553-6e79-4a71-be1e-f475aee8fa12",
   "metadata": {},
   "outputs": [],
   "source": []
  }
 ],
 "metadata": {
  "kernelspec": {
   "display_name": "Python 3 (ipykernel)",
   "language": "python",
   "name": "python3"
  },
  "language_info": {
   "codemirror_mode": {
    "name": "ipython",
    "version": 3
   },
   "file_extension": ".py",
   "mimetype": "text/x-python",
   "name": "python",
   "nbconvert_exporter": "python",
   "pygments_lexer": "ipython3",
   "version": "3.11.5"
  }
 },
 "nbformat": 4,
 "nbformat_minor": 5
}
