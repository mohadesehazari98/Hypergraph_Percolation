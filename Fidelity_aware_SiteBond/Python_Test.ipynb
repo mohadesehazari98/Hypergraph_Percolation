{
  "cells": [
    {
      "cell_type": "code",
      "execution_count": null,
      "id": "686ccf6c-3211-4e86-90c2-bb51cbee76fe",
      "metadata": {
        "tags": [],
        "id": "686ccf6c-3211-4e86-90c2-bb51cbee76fe"
      },
      "outputs": [],
      "source": [
        "import math\n",
        "import random\n",
        "import itertools\n",
        "import numpy as np\n",
        "import networkx as nx\n",
        "import matplotlib.pyplot as plt"
      ]
    },
    {
      "cell_type": "code",
      "execution_count": null,
      "id": "ed6c0e97-7097-495d-834a-710363d40627",
      "metadata": {
        "tags": [],
        "id": "ed6c0e97-7097-495d-834a-710363d40627"
      },
      "outputs": [],
      "source": [
        "from math import floor\n",
        "from itertools import combinations\n",
        "from collections import defaultdict\n",
        "from networkx import NetworkXException\n",
        "from networkx.algorithms.approximation import steiner_tree"
      ]
    },
    {
      "cell_type": "markdown",
      "id": "a1080465-e4c4-4a02-a3e2-c6638128ca75",
      "metadata": {
        "id": "a1080465-e4c4-4a02-a3e2-c6638128ca75"
      },
      "source": [
        "<div class=\"alert alert-block alert-info\">\n",
        "<b>🌌Graph:</b> fidelity-aware distribution of a 3-qubit GHZ state\n",
        "using site-bond percolation to model the underlying quantum network.\n",
        "</div>"
      ]
    },
    {
      "cell_type": "markdown",
      "id": "184ddb2c-25b1-4592-abf8-42292554aa45",
      "metadata": {
        "id": "184ddb2c-25b1-4592-abf8-42292554aa45"
      },
      "source": [
        "_Initialize the Graph_"
      ]
    },
    {
      "cell_type": "code",
      "execution_count": null,
      "id": "aa72a9af-3b13-48b5-93f7-367315bab7c0",
      "metadata": {
        "tags": [],
        "id": "aa72a9af-3b13-48b5-93f7-367315bab7c0"
      },
      "outputs": [],
      "source": [
        "def build_initial_grid(w, h):\n",
        "    G = nx.Graph()\n",
        "    for i in range(w):\n",
        "        for j in range(h):\n",
        "            G.add_node((i, j))\n",
        "            parity = (i + j) % 2\n",
        "            ni = i + 1\n",
        "            if 0 <= ni < w:\n",
        "                G.add_edge((i, j), (ni, j))\n",
        "            if parity == 0 and j + 1 < h:\n",
        "                G.add_edge((i, j), (i, j + 1))\n",
        "            elif parity == 1 and j - 1 >= 0:\n",
        "                G.add_edge((i, j), (i, j - 1))\n",
        "    return G"
      ]
    },
    {
      "cell_type": "markdown",
      "id": "4a834c92-5239-4beb-a32f-557b49b2e6d9",
      "metadata": {
        "id": "4a834c92-5239-4beb-a32f-557b49b2e6d9"
      },
      "source": [
        "_site-bond percolation_"
      ]
    },
    {
      "cell_type": "code",
      "execution_count": null,
      "id": "fe3d06eb-88b0-4355-91b5-dd3abd61220c",
      "metadata": {
        "id": "fe3d06eb-88b0-4355-91b5-dd3abd61220c"
      },
      "outputs": [],
      "source": [
        "def percolate_graph(G, w, h, p, q, p_f, terminals):\n",
        "    Gp = G.copy()\n",
        "    # Bond\n",
        "    for edge in list(Gp.edges):\n",
        "        if random.random() > p:\n",
        "            Gp.remove_edge(*edge)\n",
        "        else:\n",
        "            if random.random() < p_f:\n",
        "                Gp.edges[edge]['fidelity'] = 1.0\n",
        "            else:\n",
        "                Gp.edges[edge]['fidelity'] = random.uniform(0.9, 1.0)\n",
        "    # Site\n",
        "    cnt = 0\n",
        "    for component in nx.connected_components(Gp):\n",
        "        if set(terminals) <= component:\n",
        "            cnt += 1\n",
        "            surviving_nodes = set()\n",
        "            for node in component:\n",
        "                if node in terminals or random.random() <= q:\n",
        "                    surviving_nodes.add(node)\n",
        "    if cnt == 1:\n",
        "        print(\"the cnt is:\", cnt)\n",
        "        return Gp.subgraph(surviving_nodes).copy()\n",
        "    else:\n",
        "        print(\"the cnt is:\", cnt)\n",
        "        return Gp.copy()\n",
        "# ========================================================================================================\n",
        "# calculate the tree\n",
        "def compute_steiner_tree(G, terminals, weight=None):\n",
        "    if G != None:\n",
        "        comp = nx.node_connected_component(G, next(iter(terminals)))\n",
        "        if set(terminals) <= comp:\n",
        "            return steiner_tree(G.subgraph(comp).copy(), set(terminals), weight=weight, method=\"kou\")\n",
        "    return None"
      ]
    },
    {
      "cell_type": "markdown",
      "id": "1829fc11-7bd0-4e5b-bcbf-08ee5f1f1a32",
      "metadata": {
        "id": "1829fc11-7bd0-4e5b-bcbf-08ee5f1f1a32"
      },
      "source": [
        "_fidelity of the chain_"
      ]
    },
    {
      "cell_type": "code",
      "execution_count": null,
      "id": "51e1775c-b048-46ce-a2f7-a6b603abdefb",
      "metadata": {
        "tags": [],
        "id": "51e1775c-b048-46ce-a2f7-a6b603abdefb"
      },
      "outputs": [],
      "source": [
        "def compute_fidelity_along_path(G, path):\n",
        "    # Zero- or one-node path: by definition, fidelity = 1.0\n",
        "    if len(path) <= 1:\n",
        "        return 1.0\n",
        "    fidelity = G[path[0]][path[1]][\"fidelity\"]\n",
        "    for u, v in zip(path[1:-1], path[2:]):\n",
        "        f_next = G[u][v].get(\"fidelity\", 1.0)\n",
        "        fidelity = fidelity * f_next + ((1 - fidelity) * (1 - f_next)) / 3\n",
        "    return fidelity\n",
        "# ========================================================================================================\n",
        "def analyze_steiner_tree_fidelity(Gp, T, terminals):\n",
        "    terminals = set(terminals)\n",
        "    candidates = [n for n in T if T.degree[n] == max(dict(T.degree()).values())]\n",
        "    center = next((n for n in candidates if n in terminals), candidates[0])\n",
        "    #print(f\"Center node: {center}\")\n",
        "    fidelity_dict = {}\n",
        "    for terminal in terminals:\n",
        "        if terminal != center:\n",
        "            path = nx.shortest_path(T, center, terminal)\n",
        "            fidelity = compute_fidelity_along_path(Gp, path)\n",
        "            fidelity_dict[terminal] = fidelity\n",
        "        else:\n",
        "            fidelity_dict[center] = 1.0\n",
        "    return fidelity_dict\n",
        "# ========================================================================================================\n",
        "# final fidelity\n",
        "def compute_final_fidelity(F1, F2, F3):\n",
        "    eps1 = (1 - F1) / 3\n",
        "    eps2 = (1 - F2) / 3\n",
        "    eps3 = (1 - F3) / 3\n",
        "    e1 = eps1 + eps2 + eps3\n",
        "    e2 = eps1 * eps2 + eps1 * eps3 + eps2 * eps3\n",
        "    e3 = eps1 * eps2 * eps3\n",
        "    F4 = 1 - 3 * e1 + 10 * e2 - 32 * e3\n",
        "    return F4"
      ]
    },
    {
      "cell_type": "markdown",
      "id": "0cdebf4f-283d-4056-bca6-36d567dd3fe0",
      "metadata": {
        "id": "0cdebf4f-283d-4056-bca6-36d567dd3fe0"
      },
      "source": [
        "📉_Visualize_"
      ]
    },
    {
      "cell_type": "code",
      "execution_count": null,
      "id": "c75f1802-aaaf-4d98-919e-06410b05501a",
      "metadata": {
        "tags": [],
        "id": "c75f1802-aaaf-4d98-919e-06410b05501a"
      },
      "outputs": [],
      "source": [
        "def visualize_parity_grid_with_abc(G, w, h, T=None, scale=0.8):\n",
        "    pos = { (i, j): (scale * i, -scale * j) for (i, j) in G.nodes }\n",
        "\n",
        "    A = (1, 1)\n",
        "    B = (w - 2, h - 2)\n",
        "    C = (w - 2, 1)\n",
        "\n",
        "    terminals = {A, B, C}\n",
        "    special_nodes = [n for n in terminals if n in G]\n",
        "    regular_nodes = [n for n in G.nodes if n not in special_nodes]\n",
        "\n",
        "    fig, ax = plt.subplots(figsize=(5, 5), constrained_layout=True)\n",
        "\n",
        "    # Draw regular nodes\n",
        "    nx.draw_networkx_nodes(G, pos, nodelist=regular_nodes, node_color='#4F8FC0', node_size=100, ax=ax)\n",
        "\n",
        "    # Draw special nodes with different colors\n",
        "    if A in G:\n",
        "        nx.draw_networkx_nodes(G, pos, nodelist=[A], node_color='#62A87C', node_size=200, ax=ax)\n",
        "    if B in G:\n",
        "        nx.draw_networkx_nodes(G, pos, nodelist=[B], node_color='#7EE081', node_size=200, ax=ax)\n",
        "    if C in G:\n",
        "        nx.draw_networkx_nodes(G, pos, nodelist=[C], node_color='#C3F3C0', node_size=200, ax=ax)\n",
        "\n",
        "    # Draw base graph edges\n",
        "    nx.draw_networkx_edges(G, pos, edge_color='gray', width=1.0, ax=ax)\n",
        "\n",
        "    # Draw Steiner tree if provided\n",
        "    if T is not None and len(T.edges) > 0:\n",
        "        nx.draw_networkx_edges(T, pos, edge_color='black', width=2.5, ax=ax)\n",
        "\n",
        "    # Add labels for A, B, C if present\n",
        "    labels = {n: lbl for n, lbl in zip([A, B, C], ['A', 'B', 'C']) if n in G}\n",
        "    nx.draw_networkx_labels(G, pos, labels=labels, font_size=10, font_color='black', ax=ax)\n",
        "\n",
        "    ax.set_title(\"Parity Grid with A, B, C + Steiner Tree\")\n",
        "    ax.axis('off')\n",
        "    plt.show()"
      ]
    },
    {
      "cell_type": "code",
      "execution_count": null,
      "id": "35cbd247-d452-46a8-b9c6-49f5f786fb17",
      "metadata": {
        "tags": [],
        "colab": {
          "base_uri": "https://localhost:8080/",
          "height": 581
        },
        "id": "35cbd247-d452-46a8-b9c6-49f5f786fb17",
        "outputId": "448546fa-b0f8-453d-c420-15f19d58e06c"
      },
      "outputs": [
        {
          "output_type": "stream",
          "name": "stdout",
          "text": [
            "the cnt is: 1\n"
          ]
        },
        {
          "output_type": "display_data",
          "data": {
            "text/plain": [
              "<Figure size 500x500 with 1 Axes>"
            ],
            "image/png": "[encoded data removed]"
          },
          "metadata": {}
        },
        {
          "output_type": "stream",
          "name": "stdout",
          "text": [
            "fidelity dictionary: {(4, 4): 0.9006291838415537, (1, 1): 0.8517339472959763, (4, 1): 1.0}\n",
            "Final GHZ fidelity is: 0.76873348521063\n"
          ]
        }
      ],
      "source": [
        "p = 0.90\n",
        "q = 0.95\n",
        "p_f = 0.70\n",
        "w = 6\n",
        "h = 6\n",
        "A = (1, 1)\n",
        "B = (w - 2, h - 2)\n",
        "C = (w - 2, 1)\n",
        "terminals = {A, B, C}\n",
        "# ---------------------------------------------------------------------------------------------------------\n",
        "G = build_initial_grid(w, h)\n",
        "Gp = percolate_graph(G, w, h, p, q, p_f, terminals)\n",
        "T = compute_steiner_tree(Gp, terminals)\n",
        "visualize_parity_grid_with_abc(Gp, w, h, T=T)\n",
        "if T is not None:\n",
        "    fidelity_dict = analyze_steiner_tree_fidelity(Gp, T, terminals)\n",
        "    F_vals = [fidelity_dict[t] for t in terminals]\n",
        "    fidelity_ghz = compute_final_fidelity(*F_vals)\n",
        "    print(f\"fidelity dictionary: {fidelity_dict}\")\n",
        "    print(f\"Final GHZ fidelity is: {fidelity_ghz}\")\n",
        "else:\n",
        "    print(\"❌ No valid Steiner tree exists.\")"
      ]
    },
    {
      "cell_type": "markdown",
      "id": "144852dd-5259-42e5-8e00-bc8f78ab676a",
      "metadata": {
        "id": "144852dd-5259-42e5-8e00-bc8f78ab676a"
      },
      "source": [
        "<div class=\"alert alert-block alert-info\">\n",
        "<b>📡Hypergraph:</b> fidelity-aware distribution of a 3-qubit GHZ state\n",
        "using site-bond percolation to model the underlying quantum network.\n",
        "</div>"
      ]
    },
    {
      "cell_type": "markdown",
      "source": [
        "✌*Visualization Helps*"
      ],
      "metadata": {
        "id": "gvoa8jEFvdXj"
      },
      "id": "gvoa8jEFvdXj"
    },
    {
      "cell_type": "code",
      "source": [
        "from matplotlib.patches import Rectangle\n",
        "import matplotlib.pyplot as plt\n",
        "import networkx as nx\n",
        "\n",
        "def visualize_hypergraph_layers(G1, G2, w, h, *,\n",
        "                                terminals=None,\n",
        "                                factor_nodes=None,\n",
        "                                scale=0.8,\n",
        "                                title1=\"Layer 1: Bipartite (G1)\",\n",
        "                                title2=\"Layer 2: Multipartite (G2)\"):\n",
        "\n",
        "\n",
        "    terminals = set(terminals or [])\n",
        "    factor_nodes = set(factor_nodes or [])\n",
        "\n",
        "    # Consistent grid positions across both layers\n",
        "    def pos_for(G):\n",
        "        return {(i, j): (scale * i, -scale * j) for (i, j) in G.nodes}\n",
        "\n",
        "    pos1 = pos_for(G1)\n",
        "    pos2 = pos_for(G2)\n",
        "\n",
        "    fig, (ax1, ax2) = plt.subplots(1, 2, figsize=(12, 6), constrained_layout=True)\n",
        "\n",
        "    # ---------- Layer 1 (G1): base graph -------------------------------------------------------------------------------------\n",
        "    base_nodes_G1 = [n for n in G1.nodes if n not in terminals]\n",
        "    if base_nodes_G1:\n",
        "        nx.draw_networkx_nodes(G1, pos1, nodelist=base_nodes_G1, node_size=100, ax=ax1)\n",
        "    if terminals:\n",
        "        present_terms = [t for t in terminals if t in G1]\n",
        "        if present_terms:\n",
        "            nx.draw_networkx_nodes(G1, pos1, nodelist=present_terms, node_color='lightgreen', node_size=200, ax=ax1)\n",
        "            nx.draw_networkx_labels(G1, pos1, labels={t: chr(65+i) for i, t in enumerate(present_terms)}, ax=ax1)\n",
        "    if G1.number_of_edges() > 0:\n",
        "        nx.draw_networkx_edges(G1, pos1, width=1.2, ax=ax1)\n",
        "\n",
        "    ax1.set_title(title1)\n",
        "    ax1.axis('off')\n",
        "    ax1.set_aspect('equal', adjustable='box')\n",
        "    ax1.add_patch(Rectangle((0, 0), 1, 1, transform=ax1.transAxes, fill=False, edgecolor='black', linewidth=2))\n",
        "\n",
        "    # ---------- Layer 2 (G2): factor graph -------------------------------------------------------------------------------------\n",
        "    # Split nodes into factor vs base for styling\n",
        "    factors_in_G2 = [n for n in factor_nodes if n in G2]\n",
        "    base_nodes_G2 = [n for n in G2.nodes if n not in factor_nodes]\n",
        "\n",
        "    if base_nodes_G2:\n",
        "        nx.draw_networkx_nodes(G2, pos2, nodelist=base_nodes_G2, node_size=100, ax=ax2)\n",
        "    if factors_in_G2:\n",
        "        nx.draw_networkx_nodes(G2, pos2, nodelist=factors_in_G2, node_size=250, node_color='orchid', node_shape='s', ax=ax2)\n",
        "\n",
        "    if G2.number_of_edges() > 0:\n",
        "        nx.draw_networkx_edges(G2, pos2, width=1.2, ax=ax2)\n",
        "\n",
        "    ax2.set_title(title2)\n",
        "    ax2.axis('off')\n",
        "    ax2.set_aspect('equal', adjustable='box')\n",
        "    ax2.add_patch(Rectangle((0, 0), 1, 1, transform=ax2.transAxes, fill=False, edgecolor='black', linewidth=2))\n",
        "\n",
        "    return fig, (ax1, ax2)"
      ],
      "metadata": {
        "id": "4B1MMcHAtA1r"
      },
      "id": "4B1MMcHAtA1r",
      "execution_count": null,
      "outputs": []
    },
    {
      "cell_type": "markdown",
      "id": "471a3db5-5c26-45ca-9504-84337f8031cc",
      "metadata": {
        "id": "471a3db5-5c26-45ca-9504-84337f8031cc"
      },
      "source": [
        "*Initialize the Hypergraph*\n",
        "\n",
        "✅ *Checked*"
      ]
    },
    {
      "cell_type": "code",
      "execution_count": null,
      "id": "d07fabad-413d-4362-aee4-8a18fca967ce",
      "metadata": {
        "tags": [],
        "id": "d07fabad-413d-4362-aee4-8a18fca967ce"
      },
      "outputs": [],
      "source": [
        "def build_hypergraph(w, h):\n",
        "    G1 = build_initial_grid(w, h)\n",
        "# ---------------------------------------------------------------------------------------------------------\n",
        "    # potential bug: unwanted nodes are added at parity check\n",
        "    G2 = nx.Graph()\n",
        "    factor_node_list = set()\n",
        "    for i in range(w):\n",
        "        for j in range(h):\n",
        "            G2.add_node((i, j))\n",
        "            parity = (i + j) % 2\n",
        "            if parity == 1: # parity 1 are the base nodes\n",
        "                if j + 1 < h and i + 2 < w:\n",
        "                    G2.add_edge((i + 1, j), (i, j))\n",
        "                    G2.add_edge((i + 1, j), (i + 1, j + 1))\n",
        "                    G2.add_edge((i + 1, j), (i + 2, j))\n",
        "                    factor_node_list.add((i + 1, j))\n",
        "    hyperg = [G1, G2]\n",
        "    return [hyperg, factor_node_list]"
      ]
    },
    {
      "cell_type": "markdown",
      "id": "78c2a239-bd60-470a-abc9-263582b04a23",
      "metadata": {
        "id": "78c2a239-bd60-470a-abc9-263582b04a23"
      },
      "source": [
        "_Multiplex hypergraph Percolation_\n",
        "\n",
        "✅ *Checked*"
      ]
    },
    {
      "cell_type": "code",
      "execution_count": null,
      "id": "185741a6-5177-41a7-b77b-492054d7c182",
      "metadata": {
        "tags": [],
        "id": "185741a6-5177-41a7-b77b-492054d7c182"
      },
      "outputs": [],
      "source": [
        "def percolate_hypergraph(hyperg, factor_initial, p, q, p_f, terminals):\n",
        "    G1 = hyperg[0].copy()\n",
        "    G2 = hyperg[1].copy()\n",
        "\n",
        "    # ========================================================================================================\n",
        "    # Bond percolation on G1 edges with fidelity\n",
        "    for edge in list(G1.edges):\n",
        "        if random.random() > p:\n",
        "            G1.remove_edge(*edge)\n",
        "        else:\n",
        "            G1.edges[edge]['fidelity'] = 1.0 if random.random() <= p_f else random.uniform(0.9, 1.0)\n",
        "\n",
        "    # ========================================================================================================\n",
        "    # Hyperedge percolation: keep factor nodes with probability p (others removed via subgraph)\n",
        "    # Note that here G2 is not updated\n",
        "    factor_node_list = [node for node in factor_initial if random.random() <= p]\n",
        "\n",
        "    for node in factor_node_list:\n",
        "        G2.nodes[node]['fidelity'] = 1.0 if random.random() <= p_f else random.uniform(0.9, 1.0)\n",
        "\n",
        "    # ========================================================================================================\n",
        "    # Site percolation: keep nodes with probability q or if they are terminals\n",
        "    survived1 = {node for node in G1.nodes if node in set(terminals) or random.random() <= q}\n",
        "\n",
        "    # Update G1\n",
        "    G1 = G1.subgraph(survived1).copy()\n",
        "\n",
        "    # Keep base nodes that survived and are also in G2\n",
        "    survived2 = ((survived1 - set(factor_initial)) & set(G2.nodes)) | set(factor_node_list)\n",
        "\n",
        "    G2 = G2.subgraph(survived2).copy() # G2 is updated\n",
        "\n",
        "    # Filter out factor nodes with degree less than number of terminals\n",
        "    factor_node_up = [node for node in factor_node_list if node in G2 and G2.degree[node] == 3]\n",
        "\n",
        "    invalid_factors = set(factor_node_list) - set(factor_node_up)\n",
        "    G2.remove_nodes_from(invalid_factors)\n",
        "\n",
        "    return [G1, G2, factor_node_up]"
      ]
    },
    {
      "cell_type": "markdown",
      "id": "4fbdab1e-b849-4b26-bf0c-f5676b582057",
      "metadata": {
        "id": "4fbdab1e-b849-4b26-bf0c-f5676b582057"
      },
      "source": [
        "☂ *helper funcions*"
      ]
    },
    {
      "cell_type": "code",
      "execution_count": null,
      "id": "ea1e9138-256d-4644-906e-cbe2068a19c2",
      "metadata": {
        "id": "ea1e9138-256d-4644-906e-cbe2068a19c2"
      },
      "outputs": [],
      "source": [
        "# take the factor node coordinate as the input and return the corresponding base nodes\n",
        "def factor_to_base_nodes(factor_node):\n",
        "    i, j = factor_node\n",
        "    return {(i - 1, j), (i, j + 1), (i + 1, j)}\n",
        "\n",
        "# ========================================================================================================\n",
        "# Finds shortest paths for any list of (tag, s, t) pairs\n",
        "def edge_disjoint_min_total(G, pairs):\n",
        "    best = None\n",
        "    for order in itertools.permutations(pairs):\n",
        "        H = G.copy()\n",
        "        paths = {}\n",
        "        total_len = 0\n",
        "        ok = True\n",
        "        for tag, s, t in order:\n",
        "            try:\n",
        "                path = nx.shortest_path(H, s, t)\n",
        "            except nx.NetworkXNoPath:\n",
        "                ok = False\n",
        "                break\n",
        "            paths[tag] = path\n",
        "            total_len += len(path) - 1  # number of edges\n",
        "            H.remove_edges_from(zip(path, path[1:]))  # enforce disjointness\n",
        "        if ok and (best is None or total_len < best[0]):\n",
        "            best = (total_len, paths)\n",
        "\n",
        "    return (False, {}, 0) if best is None else (True, best[1], best[0])\n",
        "\n",
        "# ========================================================================================================\n",
        "def edges_of(path, *, undirected=True):\n",
        "    if len(path) <= 1:\n",
        "        return set()\n",
        "    if undirected:\n",
        "        return {tuple(sorted(e)) for e in zip(path, path[1:])}\n",
        "    return set(zip(path, path[1:]))"
      ]
    },
    {
      "cell_type": "markdown",
      "source": [
        "*Creating the Dictionary*\n",
        "\n",
        "✅ *Checked*"
      ],
      "metadata": {
        "id": "cjU6QzHBlBhN"
      },
      "id": "cjU6QzHBlBhN"
    },
    {
      "cell_type": "code",
      "source": [
        "# Dictionary is {'factor-node', 'base-nodes', 'hyperedge-fidelity'}\n",
        "\n",
        "def build_level1_dict(G2, factor_nodes):\n",
        "    # Level-1 dictionary of initial 3-qubit GHZ hyperedges\n",
        "    d = {}\n",
        "    for n in factor_nodes:\n",
        "        # get the hyperedge fidelity, report if missing\n",
        "        if 'fidelity' not in G2.nodes[n]:\n",
        "            raise ValueError(f\"Missing 'fidelity' for factor node {n} in G2\")\n",
        "\n",
        "        fid = G2.nodes[n]['fidelity']\n",
        "        d[n] = {'factor-node': n, 'base-nodes': factor_to_base_nodes(n), 'hyperedge-fidelity': fid}\n",
        "    return d"
      ],
      "metadata": {
        "id": "TIXUY47Jkf2_"
      },
      "id": "TIXUY47Jkf2_",
      "execution_count": null,
      "outputs": []
    },
    {
      "cell_type": "markdown",
      "source": [
        "*Calculate the Path and Fidelity*\n",
        "\n",
        "✅ *Checked*"
      ],
      "metadata": {
        "id": "NhZhYWjPlHoK"
      },
      "id": "NhZhYWjPlHoK"
    },
    {
      "cell_type": "code",
      "source": [
        "def select_best_factor_fidelity(d, G1, G2, terminals, *, warn_if_nondisjoint=True):\n",
        "\n",
        "    terminals_tuple = tuple(sorted(terminals))  # deterministic order: (A, B, C)\n",
        "\n",
        "    # Per-factor: compute the best assignment\n",
        "    for key, value in d.items():\n",
        "        base_nodes = list(factor_to_base_nodes(value['factor-node'])) # we take one factor-node from the list\n",
        "        min_distance = math.inf\n",
        "        min_base_nodes = None\n",
        "        min_paths = None\n",
        "\n",
        "        for b1, b2, b3 in itertools.permutations(base_nodes, 3):\n",
        "            ok, paths_dict, total_len = edge_disjoint_min_total(G1, [('t1', terminals_tuple[0], b1), ('t2', terminals_tuple[1], b2), ('t3', terminals_tuple[2], b3)])\n",
        "\n",
        "            # The question is out of all the base-node combinations of that factor-node, which edge-disjoint paths to the terminals has the minimum distance\n",
        "            if ok and total_len < min_distance:\n",
        "                min_distance = total_len\n",
        "                min_base_nodes = (b1, b2, b3)\n",
        "                min_paths = paths_dict\n",
        "\n",
        "        # If the answer is infinity then the given factor-node has no functional paths to the terminals\n",
        "        value.update({'base-nodes': min_base_nodes, 'distance': min_distance, 'paths': min_paths})\n",
        "\n",
        "    # ========================================================================================================\n",
        "    # === Unified check: empty dict OR all distances == ∞\n",
        "    if not d or all(math.isinf(val['distance']) for val in d.values()):\n",
        "        # print(\"No feasible terminal→base assignments; trying Steiner fallback.\")\n",
        "        T = compute_steiner_tree(G1, terminals_tuple)\n",
        "        if T is None:\n",
        "            # print(\"No valid Steiner tree exists.\")\n",
        "            return False, None\n",
        "\n",
        "        fidelity_dict = analyze_steiner_tree_fidelity(G1, T, terminals_tuple)\n",
        "        F_vals = [fidelity_dict[t] for t in terminals_tuple]\n",
        "        fidelity_ghz = compute_final_fidelity(*F_vals)\n",
        "        #return False, fidelity_ghz, T\n",
        "        return True, fidelity_ghz\n",
        "\n",
        "    # ========================================================================================================\n",
        "    # Otherwise, pick the best factor (smallest distance)\n",
        "    best_key, best_val = min(d.items(), key=lambda kv: kv[1]['distance'])\n",
        "\n",
        "    # Compute fidelities\n",
        "    f_t1 = compute_fidelity_along_path(G1, best_val['paths']['t1'])\n",
        "    f_t2 = compute_fidelity_along_path(G1, best_val['paths']['t2'])\n",
        "    f_t3 = compute_fidelity_along_path(G1, best_val['paths']['t3'])\n",
        "\n",
        "    f_GHZ = G2.nodes[best_val['factor-node']]['fidelity']\n",
        "    f_GHZ = f_GHZ * f_t1 + ((1 - f_GHZ) * (1 - f_t1)) / 7\n",
        "    f_GHZ = f_GHZ * f_t2 + ((1 - f_GHZ) * (1 - f_t2)) / 7\n",
        "    f_GHZ = f_GHZ * f_t3 + ((1 - f_GHZ) * (1 - f_t3)) / 7\n",
        "\n",
        "    #return True, f_GHZ, best_val\n",
        "    return True, f_GHZ"
      ],
      "metadata": {
        "id": "SHfN6L2vLonf"
      },
      "id": "SHfN6L2vLonf",
      "execution_count": null,
      "outputs": []
    },
    {
      "cell_type": "code",
      "source": [
        "def run_hypergraph(w, h, p, q, p_f, fid_thresh, terminals, N_trials):\n",
        "\n",
        "    R_raw = 0\n",
        "    R_fid = 0\n",
        "    fid_mean = 0\n",
        "    for n in N_trials:\n",
        "        # -------------------initialize the graph-------------------\n",
        "        hyperg, factor_initial = build_hypergraph(w, h)\n",
        "        # -------------------perform percolation-------------------\n",
        "        G1, G2, factor_node_up = percolate_hypergraph(hyperg, factor_initial, p, q, p_f, terminals)\n",
        "        # -------------------create the first level dictionary-------------------\n",
        "        d = build_level1_dict(G2, factor_node_up)\n",
        "        # -------------------find the best factor node-------------------\n",
        "        ok, ghz_f = select_best_factor_fidelity(d, G1, G2, terminals)\n",
        "        if ok:\n",
        "            # success at m=2 or m=1\n",
        "            R_raw =+ 1\n",
        "            if ghz_f > fid_thresh:\n",
        "                R_fid =+ 1\n",
        "                fid_mean =+ ghz_f\n",
        "                fid_mean = fid_mean / len(fid_mean)\n",
        "        # -------------------return the value-------------------\n",
        "        return R_raw, R_fid, fid_mean"
      ],
      "metadata": {
        "id": "vc5qWBBKSwSp"
      },
      "id": "vc5qWBBKSwSp",
      "execution_count": null,
      "outputs": []
    },
    {
      "cell_type": "code",
      "source": [
        "w = 6\n",
        "h = 6\n",
        "A = (1, 1)\n",
        "B = (w - 2, h - 2)\n",
        "C = (w - 2, 1)\n",
        "p = 0.90 # bond percolation\n",
        "q = 0.85 # site percolation\n",
        "p_f = 0.70\n",
        "terminals = {A, B, C}\n",
        "\n",
        "\n",
        "\n",
        "\n",
        "\n",
        "\n",
        "\n"
      ],
      "metadata": {
        "id": "-4Dby-egOxxX"
      },
      "id": "-4Dby-egOxxX",
      "execution_count": null,
      "outputs": []
    },
    {
      "cell_type": "code",
      "source": [
        "w = 6\n",
        "h = 6\n",
        "A = (1, 1)\n",
        "B = (w - 2, h - 2)\n",
        "C = (w - 2, 1)\n",
        "p = 0.90 # bond percolation\n",
        "q = 0.85 # site percolation\n",
        "p_f = 0.70\n",
        "terminals = {A, B, C}\n",
        "# -------------------initialize the graph-------------------\n",
        "hyperg, factor_initial = build_hypergraph(w, h)\n",
        "# -------------------perform percolation-------------------\n",
        "G1, G2, factor_node_up = percolate_hypergraph(hyperg, factor_initial, p, q, p_f, terminals)\n",
        "# -------------------create the first level dictionary-------------------\n",
        "d = build_level1_dict(G2, factor_node_up)                                       # the firsl level dictionary\n",
        "for key, value in d.items():\n",
        "    print(f\"{key}: {value}\")\n",
        "\n",
        "ok, ghz_f, dic_factor = select_best_factor_fidelity(d, G1, G2, terminals)\n",
        "if ok:\n",
        "    print(f\"The final GHZ fidelity is: {ghz_f}\")\n",
        "    print(f\"Factor node is: {dic_factor}\")\n",
        "else:\n",
        "    print(f\"The final GHZ fidelity is: {ghz_f}\")\n",
        "    print(f\"The Steiner tree is: {dic_factor}\")\n",
        "\n",
        "visualize_hypergraph_layers(G1, G2, w, h, terminals={A,B,C}, factor_nodes=factor_node_up)"
      ],
      "metadata": {
        "colab": {
          "base_uri": "https://localhost:8080/",
          "height": 897
        },
        "id": "La6GyVvcrda5",
        "outputId": "27777329-ef9e-4fc5-dee2-fd96095749c7"
      },
      "id": "La6GyVvcrda5",
      "execution_count": null,
      "outputs": [
        {
          "output_type": "stream",
          "name": "stdout",
          "text": [
            "(4, 4): {'factor-node': (4, 4), 'base-nodes': {(4, 5), (5, 4), (3, 4)}, 'hyperedge-fidelity': 0.9717318427043629}\n",
            "(2, 4): {'factor-node': (2, 4), 'base-nodes': {(2, 5), (3, 4), (1, 4)}, 'hyperedge-fidelity': 1.0}\n",
            "(4, 0): {'factor-node': (4, 0), 'base-nodes': {(5, 0), (4, 1), (3, 0)}, 'hyperedge-fidelity': 0.9529003449004216}\n",
            "(3, 1): {'factor-node': (3, 1), 'base-nodes': {(3, 2), (4, 1), (2, 1)}, 'hyperedge-fidelity': 1.0}\n",
            "(1, 1): {'factor-node': (1, 1), 'base-nodes': {(0, 1), (1, 2), (2, 1)}, 'hyperedge-fidelity': 1.0}\n",
            "(2, 0): {'factor-node': (2, 0), 'base-nodes': {(1, 0), (2, 1), (3, 0)}, 'hyperedge-fidelity': 1.0}\n",
            "(4, 2): {'factor-node': (4, 2), 'base-nodes': {(5, 2), (3, 2), (4, 3)}, 'hyperedge-fidelity': 1.0}\n",
            "(3, 3): {'factor-node': (3, 3), 'base-nodes': {(2, 3), (3, 4), (4, 3)}, 'hyperedge-fidelity': 0.9720061446049026}\n",
            "(2, 2): {'factor-node': (2, 2), 'base-nodes': {(2, 3), (3, 2), (1, 2)}, 'hyperedge-fidelity': 0.9405810411536025}\n",
            "The final GHZ fidelity is: 0.8735203022853483\n",
            "Factor node is: {'factor-node': (2, 2), 'base-nodes': ((1, 2), (3, 2), (2, 3)), 'hyperedge-fidelity': 0.9405810411536025, 'distance': 10, 'paths': {'t1': [(1, 1), (1, 2)], 't2': [(4, 1), (4, 0), (3, 0), (2, 0), (2, 1), (3, 1), (3, 2)], 't3': [(4, 4), (3, 4), (3, 3), (2, 3)]}}\n"
          ]
        },
        {
          "output_type": "execute_result",
          "data": {
            "text/plain": [
              "(<Figure size 1200x600 with 2 Axes>,\n",
              " (<Axes: title={'center': 'Layer 1: Bipartite (G1)'}>,\n",
              "  <Axes: title={'center': 'Layer 2: Multipartite (G2)'}>))"
            ]
          },
          "metadata": {},
          "execution_count": 20
        },
        {
          "output_type": "display_data",
          "data": {
            "text/plain": [
              "<Figure size 1200x600 with 2 Axes>"
            ],
            "image/png": "[encoded data removed]"
          },
          "metadata": {}
        }
      ]
    },
    {
      "cell_type": "markdown",
      "source": [
        "*detecting potential hyperedges for distance extension*\n",
        "\n",
        "✅ *Checked*"
      ],
      "metadata": {
        "id": "4hf7opLBQR9h"
      },
      "id": "4hf7opLBQR9h"
    },
    {
      "cell_type": "code",
      "source": [
        "# ========================================================================================================\n",
        "\n",
        "#⛳ hyperedge fidelity Calculation (processing . . .)\n",
        "def final_hyperedge_fidelity(G2, hypf1, hypf2, hypf3, f_bc, f_de, f_fa):\n",
        "\n",
        "    # sanity check!\n",
        "    for _f in (hypf1, hypf2, hypf3):\n",
        "        if _f not in G2 or 'fidelity' not in G2.nodes[_f]:\n",
        "            raise ValueError(f\"Factor node {_f} missing or lacks 'fidelity' in G2\")\n",
        "\n",
        "    # first BSM between Bell State and the GHZ state\n",
        "    fid_a = G2.nodes[hypf1]['fidelity'] * f_bc + ((1 - G2.nodes[hypf1]['fidelity']) * (1 - f_bc)) / 7\n",
        "    fid_b = G2.nodes[hypf2]['fidelity'] * f_de + ((1 - G2.nodes[hypf2]['fidelity']) * (1 - f_de)) / 7\n",
        "    fid_c = G2.nodes[hypf3]['fidelity'] * f_fa + ((1 - G2.nodes[hypf3]['fidelity']) * (1 - f_fa)) / 7\n",
        "    # second BSM between the three GHZ states\n",
        "    return fid_a * fid_b * fid_c"
      ],
      "metadata": {
        "id": "MU4QhW0gkpdu"
      },
      "id": "MU4QhW0gkpdu",
      "execution_count": null,
      "outputs": []
    },
    {
      "cell_type": "code",
      "execution_count": null,
      "id": "b613191d-9247-4e6b-bf11-2f3df4e84015",
      "metadata": {
        "id": "b613191d-9247-4e6b-bf11-2f3df4e84015"
      },
      "outputs": [],
      "source": [
        "def can_expand_hyperedge(G1, G2, terminals, hyp_F1, hyp_F2, hyp_F3):\n",
        "\n",
        "    # the input is the factor node's coordinates\n",
        "    F1 = set(factor_to_base_nodes(hyp_F1))\n",
        "    F2 = set(factor_to_base_nodes(hyp_F2))\n",
        "    F3 = set(factor_to_base_nodes(hyp_F3))\n",
        "\n",
        "    # ========================================================================================================\n",
        "    # a,b in F1; c,d in F2; e,f in F3 such that paths b~c, d~e, f~a exist in G.\n",
        "    # Precompute reachability for the 9 nodes\n",
        "    candidates = F1 | F2 | F3\n",
        "\n",
        "    # ----------------------------------------------Sanity Checks----------------------------------------------\n",
        "    # base nodes\n",
        "    missing = [u for u in candidates if u not in G1]\n",
        "    if missing:\n",
        "        raise ValueError(f\"Base nodes missing from G1 after percolation: {missing}\")\n",
        "    # terminals\n",
        "    missing_t = [t for t in terminals if t not in G1]\n",
        "    if missing_t:\n",
        "        raise ValueError(f\"Terminals missing from G1 after percolation: {missing_t}\")\n",
        "    if len(terminals) != 3:\n",
        "        raise ValueError(\"Expected exactly three terminals.\")\n",
        "    # factor nodes\n",
        "    if not (len(F1) == 3 and len(F2) == 3 and len(F3) == 3):\n",
        "        raise ValueError(f\"Each factor must map to exactly 3 base nodes; got |F1|={len(F1)}, |F2|={len(F2)}, |F3|={len(F3)}\")\n",
        "\n",
        "    # ========================================================================================================\n",
        "\n",
        "    reach = {u: (candidates & set(nx.single_source_shortest_path_length(G1, u))) for u in candidates} # the path should exist in G1\n",
        "\n",
        "    min_distance = float('inf')\n",
        "    best_tree_sets = None\n",
        "    best_remaining = None\n",
        "    best_paths_tree = None\n",
        "    best_paths_terminals = None\n",
        "\n",
        "    # Try all ordered pairs (permutations) from each triple (3P2 = 6 each → 216 combos total)\n",
        "    for a, b in itertools.permutations(F1, 2):\n",
        "        for c, d in itertools.permutations(F2, 2):\n",
        "            for e, f in itertools.permutations(F3, 2):\n",
        "\n",
        "                # 1. There Should Be Three Intermediate Paths b~c, d~e, and f~a\n",
        "                if (c in reach[b]) and (e in reach[d]) and (a in reach[f]):\n",
        "\n",
        "                    # 2. Calculate the length for the minimum\n",
        "                    Condition1, paths_dict, total_length = multi_shortest_total(G1, [('bc', b, c), ('de', d, e), ('fa', f, a)])\n",
        "\n",
        "                    # ========================================================================================================\n",
        "\n",
        "                    if Condition1:\n",
        "                        # next(iter(..)) means : give me the only element of this singleton set\n",
        "                        base_nodes_remaining = (next(iter(F1 - {a, b})),\n",
        "                                                next(iter(F2 - {c, d})),\n",
        "                                                next(iter(F3 - {e, f})))\n",
        "\n",
        "                        P_bc = paths_dict['bc'] # list of nodes along b~c\n",
        "                        P_de = paths_dict['de'] # list of nodes along d~e\n",
        "                        P_fa = paths_dict['fa'] # list of nodes along f~a\n",
        "\n",
        "                        # 3. If remove these path's edges from G1, then there still should be paths from base nodes to terminals\n",
        "                        # Edge Removal\n",
        "                        G_temp = G1.copy()\n",
        "                        G_temp.remove_edges_from(list(zip(P_bc, P_bc[1:])))\n",
        "                        G_temp.remove_edges_from(list(zip(P_de, P_de[1:])))\n",
        "                        G_temp.remove_edges_from(list(zip(P_fa, P_fa[1:])))\n",
        "\n",
        "                        # Check for Paths to Terminals\n",
        "                        t1, t2, t3 = tuple(terminals)\n",
        "                        reach_terminals = {u: {v for v in base_nodes_remaining if nx.has_path(G_temp, u, v)} for u in terminals}\n",
        "\n",
        "                        best_tb = None\n",
        "                        Condition2 = False\n",
        "                        for (b1, b2, b3) in itertools.permutations(base_nodes_remaining):\n",
        "                            # quick filter (----------fast----------)\n",
        "                            if not (b1 in reach_terminals[t1] and b2 in reach_terminals[t2] and b3 in reach_terminals[t3]):\n",
        "                                continue\n",
        "                            ok2, paths_dict2, total_length2 = multi_shortest_total(G_temp, [('t1', t1, b1), ('t2', t2, b2), ('t3', t3, b3)])\n",
        "                            if ok2 and (best_tb is None or total_length2 < best_tb[0]):\n",
        "                                best_tb = (total_length2, paths_dict2)\n",
        "                                Condition2 = True\n",
        "\n",
        "                        # ========================================================================================================\n",
        "\n",
        "                        if Condition2:\n",
        "                            # now we should check if these sets of a,b,c,d,e and f are the optimum\n",
        "                            if (total_length + best_tb[0]) < min_distance:\n",
        "                                min_distance = total_length + best_tb[0]\n",
        "                                best_tree_sets = (a, b, c, d, e, f)\n",
        "                                best_remaining = base_nodes_remaining\n",
        "                                best_paths_tree = {'bc': P_bc, 'de': P_de, 'fa': P_fa}\n",
        "                                best_paths_terminals = best_tb[1]\n",
        "\n",
        "    if min_distance == float('inf'):\n",
        "        return {\n",
        "            \"success\": False,\n",
        "            \"remaining_bases\": None,\n",
        "            \"tree_sets\": None,\n",
        "            \"paths_tree\": None,\n",
        "            \"paths_terminals\": None,\n",
        "            \"fidelity\": None,\n",
        "            }\n",
        "\n",
        "    # ========================================================================================================\n",
        "    # first calculate path fidelities (bipartite entanglement)\n",
        "    a, b, c, d, e, f = best_tree_sets\n",
        "    P_bc = best_paths_tree['bc']; P_de = best_paths_tree['de']; P_fa = best_paths_tree['fa']\n",
        "\n",
        "    # !🐔🐔🐔! We are aware that these paths are not necessarily edge-disjoint, However we take this approximation for now\n",
        "    f_bc = compute_fidelity_along_path(G1, P_bc)\n",
        "    f_de = compute_fidelity_along_path(G1, P_de)\n",
        "    f_fa = compute_fidelity_along_path(G1, P_fa)\n",
        "\n",
        "    # using path fidelities and hyperedge fidelities we calculate the final hyperedge fidelity in G2\n",
        "    f_combhypedge = final_hyperedge_fidelity(G2, hyp_F1, hyp_F2, hyp_F3, f_bc, f_de, f_fa)\n",
        "    # return True if such longer-range hyperedge exist, the base nodes and the hyperedge fidelity\n",
        "    return {\n",
        "        \"success\": True,\n",
        "        \"remaining_bases\": best_remaining,\n",
        "        \"tree_sets\": best_tree_sets,\n",
        "        \"paths_tree\": best_paths_tree,\n",
        "        \"paths_terminals\": best_paths_terminals,\n",
        "        \"fidelity\": f_combhypedge,\n",
        "        }\n"
      ]
    },
    {
      "cell_type": "markdown",
      "source": [
        "*Dictionary*"
      ],
      "metadata": {
        "id": "3lpkeaYcqcOI"
      },
      "id": "3lpkeaYcqcOI"
    },
    {
      "cell_type": "code",
      "execution_count": null,
      "id": "8f976553-6e79-4a71-be1e-f475aee8fa12",
      "metadata": {
        "id": "8f976553-6e79-4a71-be1e-f475aee8fa12"
      },
      "outputs": [],
      "source": [
        "# ---------------------------------------------------------------------------------------------------------\n",
        "def promote_level2_hyperedges(G1, G2, factor_nodes):\n",
        "\n",
        "    # promote build_level1_dict to longer-range hyperedges if such path exist\n",
        "    factor_node_dic = {1: {}, 2: {}}\n",
        "    L2 = {}\n",
        "\n",
        "    # Build level-1 dict\n",
        "    L1 = build_level1_dict(G2, factor_nodes)\n",
        "\n",
        "    # Consider all 3-combinations of factor nodes\n",
        "    to_remove_from_L1 = set()\n",
        "    for group in itertools.combinations(factor_nodes, 3):\n",
        "        # the choisen factor nodes\n",
        "        F1, F2, F3 = group\n",
        "        # check if the path for promotion exist\n",
        "        ok, base_nodes_remaining, f_combhypedge = can_expand_hyperedge(G1, G2, F1, F2, F3)\n",
        "\n",
        "        # ---------------------------------------------------------------------------------------------------------\n",
        "        if ok:\n",
        "            # Create a new dictionary for level 2\n",
        "            # calculate a new factor-node coordinate which is the mid-point of F1, F2 and F3\n",
        "            tup_n = (F1[0] + F2[0] + F3[0]) // 3, (F1[1] + F2[1] + F3[1]) // 3\n",
        "            L2_id = len(L2)\n",
        "            L2[L2_id] = {\n",
        "                'factor-node': tup_n,\n",
        "                'base-nodes': base_nodes_remaining,\n",
        "                'hyperedge-fidelity': f_combhypedge}\n",
        "            # remove these factor-nodes from the previous list\n",
        "            to_remove_from_L1.update(group)\n",
        "\n",
        "    for n in to_remove_from_L1:\n",
        "        if n in L1:\n",
        "            del L1[n]\n",
        "        else:\n",
        "            # if factor-nodes are not in the list raise the error\n",
        "            raise KeyError(f\"Factor node {n} not found in L1 dictionary.\")\n",
        "\n",
        "    # ---------------------------------------------------------------------------------------------------------\n",
        "    factor_node_dic[1] = L1\n",
        "    factor_node_dic[2] = L2\n",
        "\n",
        "    return factor_node_dic"
      ]
    }
  ],
  "metadata": {
    "kernelspec": {
      "display_name": "Python 3 (ipykernel)",
      "language": "python",
      "name": "python3"
    },
    "language_info": {
      "codemirror_mode": {
        "name": "ipython",
        "version": 3
      },
      "file_extension": ".py",
      "mimetype": "text/x-python",
      "name": "python",
      "nbconvert_exporter": "python",
      "pygments_lexer": "ipython3",
      "version": "3.11.5"
    },
    "colab": {
      "provenance": []
    }
  },
  "nbformat": 4,
  "nbformat_minor": 5
}